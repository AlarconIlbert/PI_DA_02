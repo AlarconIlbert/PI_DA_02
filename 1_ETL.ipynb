{
 "cells": [
  {
   "attachments": {},
   "cell_type": "markdown",
   "metadata": {},
   "source": [
    "<center>\n",
    "\n",
    "## **MOOC's**\n",
    "**(Massive - Open - Online -Courses)**<br>\n",
    "**ETL**<br>\n",
    "**_PROYECTO INDIVIDUAL 2_**<br>\n",
    "\n",
    "</center>\n",
    "\n",
    "**Data Analyst (DA)**<br>\n",
    "**Data Scientis:** _Ilbert Ferney Alarcon_ 😎<br>\n",
    "**Cohorte 11**<br>"
   ]
  },
  {
   "attachments": {},
   "cell_type": "markdown",
   "metadata": {},
   "source": [
    "--------------"
   ]
  },
  {
   "attachments": {},
   "cell_type": "markdown",
   "metadata": {},
   "source": [
    "## Resumen"
   ]
  },
  {
   "attachments": {},
   "cell_type": "markdown",
   "metadata": {},
   "source": [
    "En este proyecto, nos enfrentamos al desafío de analizar datos de competidores en el mercado de cursos en línea (MOOCs) para ayudar a una startup de tecnología a ingresar de manera eficiente a este sector. Los MOOCs han ganado popularidad en los últimos años, con plataformas como Udacity, edX y Coursera ofreciendo acceso a contenido educativo de calidad de forma práctica y desde la comodidad del hogar. El objetivo principal es segmentar el nivel de ventas de los cursos en función del precio, idioma, nivel y calificación, con el fin de comprender cómo estas variables influyen en la demanda del producto. Para lograr esto, utilizaremos datasets de competidores para realizar un análisis exhaustivo y extraer conclusiones relevantes.\n",
    "\n",
    "Al analizar los datos, nos ayudará a determinar qué enfoques y estrategias podrían ser más efectivos para captar y retener clientes en este mercado altamente competitivo. Con estos conocimientos, la startup podrá ajustar su modelo de negocio y contenido de manera más precisa, para maximizar sus oportunidades de éxito en el mercado de cursos online."
   ]
  },
  {
   "attachments": {},
   "cell_type": "markdown",
   "metadata": {},
   "source": [
    "Importar librerias"
   ]
  },
  {
   "cell_type": "code",
   "execution_count": 1,
   "metadata": {},
   "outputs": [
    {
     "name": "stderr",
     "output_type": "stream",
     "text": [
      "d:\\_DATA SCIENTIST\\PI_DA_02\\.venv\\lib\\site-packages\\numba\\core\\decorators.py:262: NumbaDeprecationWarning: \u001b[1mnumba.generated_jit is deprecated. Please see the documentation at: https://numba.readthedocs.io/en/stable/reference/deprecation.html#deprecation-of-generated-jit for more information and advice on a suitable replacement.\u001b[0m\n",
      "  warnings.warn(msg, NumbaDeprecationWarning)\n",
      "d:\\_DATA SCIENTIST\\PI_DA_02\\.venv\\lib\\site-packages\\visions\\backends\\shared\\nan_handling.py:51: NumbaDeprecationWarning: \u001b[1mThe 'nopython' keyword argument was not supplied to the 'numba.jit' decorator. The implicit default value for this argument is currently False, but it will be changed to True in Numba 0.59.0. See https://numba.readthedocs.io/en/stable/reference/deprecation.html#deprecation-of-object-mode-fall-back-behaviour-when-using-jit for details.\u001b[0m\n",
      "  def hasna(x: np.ndarray) -> bool:\n"
     ]
    }
   ],
   "source": [
    "import pandas as pd\n",
    "import matplotlib.pyplot as plt\n",
    "import seaborn as sns\n",
    "from langdetect import detect\n",
    "import re\n",
    "import session_info\n",
    "import ydata_profiling as pp\n",
    "from wordcloud import WordCloud"
   ]
  },
  {
   "attachments": {},
   "cell_type": "markdown",
   "metadata": {},
   "source": [
    "Importar datos de Datasets entregados"
   ]
  },
  {
   "cell_type": "code",
   "execution_count": 2,
   "metadata": {},
   "outputs": [],
   "source": [
    "coursera_df =pd.read_csv(r'DATASETS\\Coursera_courses.csv',encoding='utf-8')\n",
    "coursera_rewdf =pd.read_csv(r'Datasets\\Coursera_reviews.csv',encoding='utf-8')\n",
    "edx_df=pd.read_csv(r'DATASETS\\edx_courses.csv',encoding='utf-8')\n",
    "udemy_df=pd.read_csv(r'DATASETS\\udemy_courses.csv',sep=',', encoding='utf-8')"
   ]
  },
  {
   "attachments": {},
   "cell_type": "markdown",
   "metadata": {},
   "source": [
    "### Coursera"
   ]
  },
  {
   "cell_type": "code",
   "execution_count": 3,
   "metadata": {},
   "outputs": [
    {
     "data": {
      "text/html": [
       "<div>\n",
       "<style scoped>\n",
       "    .dataframe tbody tr th:only-of-type {\n",
       "        vertical-align: middle;\n",
       "    }\n",
       "\n",
       "    .dataframe tbody tr th {\n",
       "        vertical-align: top;\n",
       "    }\n",
       "\n",
       "    .dataframe thead th {\n",
       "        text-align: right;\n",
       "    }\n",
       "</style>\n",
       "<table border=\"1\" class=\"dataframe\">\n",
       "  <thead>\n",
       "    <tr style=\"text-align: right;\">\n",
       "      <th></th>\n",
       "      <th>name</th>\n",
       "      <th>institution</th>\n",
       "      <th>course_url</th>\n",
       "      <th>course_id</th>\n",
       "    </tr>\n",
       "  </thead>\n",
       "  <tbody>\n",
       "    <tr>\n",
       "      <th>0</th>\n",
       "      <td>Machine Learning</td>\n",
       "      <td>Stanford University</td>\n",
       "      <td>https://www.coursera.org/learn/machine-learning</td>\n",
       "      <td>machine-learning</td>\n",
       "    </tr>\n",
       "    <tr>\n",
       "      <th>1</th>\n",
       "      <td>Indigenous Canada</td>\n",
       "      <td>University of Alberta</td>\n",
       "      <td>https://www.coursera.org/learn/indigenous-canada</td>\n",
       "      <td>indigenous-canada</td>\n",
       "    </tr>\n",
       "  </tbody>\n",
       "</table>\n",
       "</div>"
      ],
      "text/plain": [
       "                name            institution  \\\n",
       "0   Machine Learning    Stanford University   \n",
       "1  Indigenous Canada  University of Alberta   \n",
       "\n",
       "                                         course_url          course_id  \n",
       "0   https://www.coursera.org/learn/machine-learning   machine-learning  \n",
       "1  https://www.coursera.org/learn/indigenous-canada  indigenous-canada  "
      ]
     },
     "execution_count": 3,
     "metadata": {},
     "output_type": "execute_result"
    }
   ],
   "source": [
    "coursera_df.head(2)"
   ]
  },
  {
   "attachments": {},
   "cell_type": "markdown",
   "metadata": {},
   "source": [
    "Diccionario de columnas del dataframe **_`Coursera_courses.csv`_**."
   ]
  },
  {
   "cell_type": "markdown",
   "metadata": {},
   "source": [
    "<center>\n",
    "\n",
    "| **Característica** | **Descripción** |\n",
    "| :----------------: | :-------------:|\n",
    "|reviews|_Reseñas de los suscriptores_|\n",
    "|reviewers|_Nombre del suscriptor_|\n",
    "|date_reviews|_Fecha de la reseña_|\n",
    "|rating|_Valoracion de la reseña (de 1 a 5)_|\n",
    "|course_id|_Id del curso_|\n",
    "\n",
    "\n",
    "<center>"
   ]
  },
  {
   "cell_type": "code",
   "execution_count": 4,
   "metadata": {},
   "outputs": [
    {
     "name": "stdout",
     "output_type": "stream",
     "text": [
      "(623, 4)\n",
      "\n",
      "<class 'pandas.core.frame.DataFrame'>\n",
      "RangeIndex: 623 entries, 0 to 622\n",
      "Data columns (total 4 columns):\n",
      " #   Column       Non-Null Count  Dtype \n",
      "---  ------       --------------  ----- \n",
      " 0   name         623 non-null    object\n",
      " 1   institution  623 non-null    object\n",
      " 2   course_url   623 non-null    object\n",
      " 3   course_id    623 non-null    object\n",
      "dtypes: object(4)\n",
      "memory usage: 19.6+ KB\n",
      "None\n"
     ]
    }
   ],
   "source": [
    "print(coursera_df.shape)\n",
    "print()\n",
    "print(coursera_df.info())"
   ]
  },
  {
   "attachments": {},
   "cell_type": "markdown",
   "metadata": {},
   "source": [
    "👆 Como se Observa no tenemos valores vacios en este Dataset"
   ]
  },
  {
   "cell_type": "code",
   "execution_count": 5,
   "metadata": {},
   "outputs": [
    {
     "data": {
      "text/html": [
       "<div>\n",
       "<style scoped>\n",
       "    .dataframe tbody tr th:only-of-type {\n",
       "        vertical-align: middle;\n",
       "    }\n",
       "\n",
       "    .dataframe tbody tr th {\n",
       "        vertical-align: top;\n",
       "    }\n",
       "\n",
       "    .dataframe thead th {\n",
       "        text-align: right;\n",
       "    }\n",
       "</style>\n",
       "<table border=\"1\" class=\"dataframe\">\n",
       "  <thead>\n",
       "    <tr style=\"text-align: right;\">\n",
       "      <th></th>\n",
       "      <th>reviews</th>\n",
       "      <th>reviewers</th>\n",
       "      <th>date_reviews</th>\n",
       "      <th>rating</th>\n",
       "      <th>course_id</th>\n",
       "    </tr>\n",
       "  </thead>\n",
       "  <tbody>\n",
       "    <tr>\n",
       "      <th>0</th>\n",
       "      <td>Pretty dry, but I was able to pass with just t...</td>\n",
       "      <td>By Robert S</td>\n",
       "      <td>Feb 12, 2020</td>\n",
       "      <td>4</td>\n",
       "      <td>google-cbrs-cpi-training</td>\n",
       "    </tr>\n",
       "    <tr>\n",
       "      <th>1</th>\n",
       "      <td>would be a better experience if the video and ...</td>\n",
       "      <td>By Gabriel E R</td>\n",
       "      <td>Sep 28, 2020</td>\n",
       "      <td>4</td>\n",
       "      <td>google-cbrs-cpi-training</td>\n",
       "    </tr>\n",
       "  </tbody>\n",
       "</table>\n",
       "</div>"
      ],
      "text/plain": [
       "                                             reviews       reviewers  \\\n",
       "0  Pretty dry, but I was able to pass with just t...     By Robert S   \n",
       "1  would be a better experience if the video and ...  By Gabriel E R   \n",
       "\n",
       "   date_reviews  rating                 course_id  \n",
       "0  Feb 12, 2020       4  google-cbrs-cpi-training  \n",
       "1  Sep 28, 2020       4  google-cbrs-cpi-training  "
      ]
     },
     "execution_count": 5,
     "metadata": {},
     "output_type": "execute_result"
    }
   ],
   "source": [
    "coursera_rewdf.head(2)"
   ]
  },
  {
   "attachments": {},
   "cell_type": "markdown",
   "metadata": {},
   "source": [
    "Diccionario de columnas del dataframe **_`Coursera_reviews.csv`_**."
   ]
  },
  {
   "attachments": {},
   "cell_type": "markdown",
   "metadata": {},
   "source": [
    "<center>\n",
    "\n",
    "| **Característica** | **Descripción** |\n",
    "| :----------------: | :-------------:|\n",
    "|reviews|_Reseñas de los suscriptores_|\n",
    "|reviewers|_Nombre del suscriptor_|\n",
    "|date_reviews|_Fecha de la reseña_|\n",
    "|rating|_Valoracion de la reseña (de 1 a 5)_|\n",
    "|course_id|_Id del curso_|\n",
    "\n",
    "\n",
    "<center>"
   ]
  },
  {
   "cell_type": "code",
   "execution_count": 6,
   "metadata": {},
   "outputs": [
    {
     "name": "stdout",
     "output_type": "stream",
     "text": [
      "(1454711, 5)\n",
      "\n",
      "<class 'pandas.core.frame.DataFrame'>\n",
      "RangeIndex: 1454711 entries, 0 to 1454710\n",
      "Data columns (total 5 columns):\n",
      " #   Column        Non-Null Count    Dtype \n",
      "---  ------        --------------    ----- \n",
      " 0   reviews       1454571 non-null  object\n",
      " 1   reviewers     1454711 non-null  object\n",
      " 2   date_reviews  1454711 non-null  object\n",
      " 3   rating        1454711 non-null  int64 \n",
      " 4   course_id     1454711 non-null  object\n",
      "dtypes: int64(1), object(4)\n",
      "memory usage: 55.5+ MB\n",
      "None\n"
     ]
    }
   ],
   "source": [
    "print(coursera_rewdf.shape)\n",
    "print()\n",
    "print(coursera_rewdf.info())"
   ]
  },
  {
   "attachments": {},
   "cell_type": "markdown",
   "metadata": {},
   "source": [
    "👆 Aqui si identificamos que la columna \"reviews\" tiene espacios vacios"
   ]
  },
  {
   "attachments": {},
   "cell_type": "markdown",
   "metadata": {},
   "source": [
    "### EDX"
   ]
  },
  {
   "cell_type": "code",
   "execution_count": 7,
   "metadata": {},
   "outputs": [
    {
     "data": {
      "text/html": [
       "<div>\n",
       "<style scoped>\n",
       "    .dataframe tbody tr th:only-of-type {\n",
       "        vertical-align: middle;\n",
       "    }\n",
       "\n",
       "    .dataframe tbody tr th {\n",
       "        vertical-align: top;\n",
       "    }\n",
       "\n",
       "    .dataframe thead th {\n",
       "        text-align: right;\n",
       "    }\n",
       "</style>\n",
       "<table border=\"1\" class=\"dataframe\">\n",
       "  <thead>\n",
       "    <tr style=\"text-align: right;\">\n",
       "      <th></th>\n",
       "      <th>title</th>\n",
       "      <th>summary</th>\n",
       "      <th>n_enrolled</th>\n",
       "      <th>course_type</th>\n",
       "      <th>institution</th>\n",
       "      <th>instructors</th>\n",
       "      <th>Level</th>\n",
       "      <th>subject</th>\n",
       "      <th>language</th>\n",
       "      <th>subtitles</th>\n",
       "      <th>course_effort</th>\n",
       "      <th>course_length</th>\n",
       "      <th>price</th>\n",
       "      <th>course_description</th>\n",
       "      <th>course_syllabus</th>\n",
       "      <th>course_url</th>\n",
       "    </tr>\n",
       "  </thead>\n",
       "  <tbody>\n",
       "    <tr>\n",
       "      <th>0</th>\n",
       "      <td>How to Learn Online</td>\n",
       "      <td>Learn essential strategies for successful onli...</td>\n",
       "      <td>124,980</td>\n",
       "      <td>Self-paced on your time</td>\n",
       "      <td>edX</td>\n",
       "      <td>Nina Huntemann-Robyn Belair-Ben Piscopo</td>\n",
       "      <td>Introductory</td>\n",
       "      <td>Education &amp; Teacher Training</td>\n",
       "      <td>English</td>\n",
       "      <td>English</td>\n",
       "      <td>2–3 hours per week</td>\n",
       "      <td>2 Weeks</td>\n",
       "      <td>FREE-Add a Verified Certificate for $49 USD</td>\n",
       "      <td>Designed for those who are new to elearning, t...</td>\n",
       "      <td>Welcome - We start with opportunities to meet ...</td>\n",
       "      <td>https://www.edx.org/course/how-to-learn-online</td>\n",
       "    </tr>\n",
       "    <tr>\n",
       "      <th>1</th>\n",
       "      <td>Programming for Everybody (Getting Started wit...</td>\n",
       "      <td>This course is a \"no prerequisite\" introductio...</td>\n",
       "      <td>293,864</td>\n",
       "      <td>Self-paced on your time</td>\n",
       "      <td>The University of Michigan</td>\n",
       "      <td>Charles Severance</td>\n",
       "      <td>Introductory</td>\n",
       "      <td>Computer Science</td>\n",
       "      <td>English</td>\n",
       "      <td>English</td>\n",
       "      <td>2–4 hours per week</td>\n",
       "      <td>7 Weeks</td>\n",
       "      <td>FREE-Add a Verified Certificate for $49 USD</td>\n",
       "      <td>This course aims to teach everyone the basics ...</td>\n",
       "      <td>NaN</td>\n",
       "      <td>https://www.edx.org/course/programming-for-eve...</td>\n",
       "    </tr>\n",
       "  </tbody>\n",
       "</table>\n",
       "</div>"
      ],
      "text/plain": [
       "                                               title  \\\n",
       "0                                How to Learn Online   \n",
       "1  Programming for Everybody (Getting Started wit...   \n",
       "\n",
       "                                             summary n_enrolled  \\\n",
       "0  Learn essential strategies for successful onli...    124,980   \n",
       "1  This course is a \"no prerequisite\" introductio...    293,864   \n",
       "\n",
       "               course_type                 institution  \\\n",
       "0  Self-paced on your time                         edX   \n",
       "1  Self-paced on your time  The University of Michigan   \n",
       "\n",
       "                               instructors         Level  \\\n",
       "0  Nina Huntemann-Robyn Belair-Ben Piscopo  Introductory   \n",
       "1                        Charles Severance  Introductory   \n",
       "\n",
       "                        subject language subtitles       course_effort  \\\n",
       "0  Education & Teacher Training  English   English  2–3 hours per week   \n",
       "1              Computer Science  English   English  2–4 hours per week   \n",
       "\n",
       "  course_length                                        price  \\\n",
       "0       2 Weeks  FREE-Add a Verified Certificate for $49 USD   \n",
       "1       7 Weeks  FREE-Add a Verified Certificate for $49 USD   \n",
       "\n",
       "                                  course_description  \\\n",
       "0  Designed for those who are new to elearning, t...   \n",
       "1  This course aims to teach everyone the basics ...   \n",
       "\n",
       "                                     course_syllabus  \\\n",
       "0  Welcome - We start with opportunities to meet ...   \n",
       "1                                                NaN   \n",
       "\n",
       "                                          course_url  \n",
       "0     https://www.edx.org/course/how-to-learn-online  \n",
       "1  https://www.edx.org/course/programming-for-eve...  "
      ]
     },
     "execution_count": 7,
     "metadata": {},
     "output_type": "execute_result"
    }
   ],
   "source": [
    "edx_df.head(2)"
   ]
  },
  {
   "attachments": {},
   "cell_type": "markdown",
   "metadata": {},
   "source": [
    "Diccionario de columnas del dataframe **_`edx_courses.csv`_**."
   ]
  },
  {
   "attachments": {},
   "cell_type": "markdown",
   "metadata": {},
   "source": [
    "<center>\n",
    "\n",
    "| **Característica** | **Descripción** |\n",
    "| :----------------: | :-------------:|\n",
    "|title|_Titulo del curso_|\n",
    "|summary|_Resumen de lo que trata el curso_|\n",
    "|n_enrolled|_Alumnos inscritos_|\n",
    "|course_type|_Dos tipos: Dirigido por un instructor en un horario de curso / A su propio ritmo en su tiempo_|\n",
    "|istitution|_Nombre de la institución que lo ofrece_|\n",
    "|instructors|_Nombre de los instructores del curso_|\n",
    "|Level|_Grado de dificultad del curso_|\n",
    "|subject|_Área a la que pertenece el curso_|\n",
    "|language|_Idioma del curso_|\n",
    "|subtitles|_Subtitulos del curso_|\n",
    "|course_effort|_Intesidad del curso por semana_|\n",
    "|course_length|_Duración del curso_|\n",
    "|price|_Precio del curso en USD_|\n",
    "|course_description|_Descripcion del curso_|\n",
    "|course_syllabus|_Temario del curso_|\n",
    "|course_url|_Link del curso_|\n",
    "\n",
    "\n",
    "\n",
    "<center>"
   ]
  },
  {
   "cell_type": "code",
   "execution_count": 8,
   "metadata": {},
   "outputs": [
    {
     "name": "stdout",
     "output_type": "stream",
     "text": [
      "(975, 16)\n",
      "\n",
      "<class 'pandas.core.frame.DataFrame'>\n",
      "RangeIndex: 975 entries, 0 to 974\n",
      "Data columns (total 16 columns):\n",
      " #   Column              Non-Null Count  Dtype \n",
      "---  ------              --------------  ----- \n",
      " 0   title               975 non-null    object\n",
      " 1   summary             922 non-null    object\n",
      " 2   n_enrolled          855 non-null    object\n",
      " 3   course_type         975 non-null    object\n",
      " 4   institution         975 non-null    object\n",
      " 5   instructors         972 non-null    object\n",
      " 6   Level               975 non-null    object\n",
      " 7   subject             975 non-null    object\n",
      " 8   language            975 non-null    object\n",
      " 9   subtitles           972 non-null    object\n",
      " 10  course_effort       975 non-null    object\n",
      " 11  course_length       975 non-null    object\n",
      " 12  price               975 non-null    object\n",
      " 13  course_description  935 non-null    object\n",
      " 14  course_syllabus     417 non-null    object\n",
      " 15  course_url          975 non-null    object\n",
      "dtypes: object(16)\n",
      "memory usage: 122.0+ KB\n",
      "None\n"
     ]
    }
   ],
   "source": [
    "print(edx_df.shape)\n",
    "print()\n",
    "print(edx_df.info())"
   ]
  },
  {
   "cell_type": "markdown",
   "metadata": {},
   "source": [
    "👆 Se identifica que las columnas 'course_syllabus, 'n_enrolled','summary','course_description','instructors' y 'subtitles' tienen espacios vacios"
   ]
  },
  {
   "attachments": {},
   "cell_type": "markdown",
   "metadata": {},
   "source": [
    "### Udemy"
   ]
  },
  {
   "cell_type": "code",
   "execution_count": 9,
   "metadata": {},
   "outputs": [
    {
     "data": {
      "text/html": [
       "<div>\n",
       "<style scoped>\n",
       "    .dataframe tbody tr th:only-of-type {\n",
       "        vertical-align: middle;\n",
       "    }\n",
       "\n",
       "    .dataframe tbody tr th {\n",
       "        vertical-align: top;\n",
       "    }\n",
       "\n",
       "    .dataframe thead th {\n",
       "        text-align: right;\n",
       "    }\n",
       "</style>\n",
       "<table border=\"1\" class=\"dataframe\">\n",
       "  <thead>\n",
       "    <tr style=\"text-align: right;\">\n",
       "      <th></th>\n",
       "      <th>course_id</th>\n",
       "      <th>course_title</th>\n",
       "      <th>url</th>\n",
       "      <th>is_paid</th>\n",
       "      <th>price</th>\n",
       "      <th>num_subscribers</th>\n",
       "      <th>num_reviews</th>\n",
       "      <th>num_lectures</th>\n",
       "      <th>level</th>\n",
       "      <th>content_duration</th>\n",
       "      <th>published_timestamp</th>\n",
       "      <th>subject</th>\n",
       "    </tr>\n",
       "  </thead>\n",
       "  <tbody>\n",
       "    <tr>\n",
       "      <th>0</th>\n",
       "      <td>1070968</td>\n",
       "      <td>Ultimate Investment Banking Course</td>\n",
       "      <td>https://www.udemy.com/ultimate-investment-bank...</td>\n",
       "      <td>True</td>\n",
       "      <td>200</td>\n",
       "      <td>2147</td>\n",
       "      <td>23</td>\n",
       "      <td>51</td>\n",
       "      <td>All Levels</td>\n",
       "      <td>1.5</td>\n",
       "      <td>2017-01-18T20:58:58Z</td>\n",
       "      <td>Business Finance</td>\n",
       "    </tr>\n",
       "    <tr>\n",
       "      <th>1</th>\n",
       "      <td>1113822</td>\n",
       "      <td>Complete GST Course &amp; Certification - Grow You...</td>\n",
       "      <td>https://www.udemy.com/goods-and-services-tax/</td>\n",
       "      <td>True</td>\n",
       "      <td>75</td>\n",
       "      <td>2792</td>\n",
       "      <td>923</td>\n",
       "      <td>274</td>\n",
       "      <td>All Levels</td>\n",
       "      <td>39.0</td>\n",
       "      <td>2017-03-09T16:34:20Z</td>\n",
       "      <td>Business Finance</td>\n",
       "    </tr>\n",
       "  </tbody>\n",
       "</table>\n",
       "</div>"
      ],
      "text/plain": [
       "   course_id                                       course_title  \\\n",
       "0    1070968                 Ultimate Investment Banking Course   \n",
       "1    1113822  Complete GST Course & Certification - Grow You...   \n",
       "\n",
       "                                                 url  is_paid  price  \\\n",
       "0  https://www.udemy.com/ultimate-investment-bank...     True    200   \n",
       "1      https://www.udemy.com/goods-and-services-tax/     True     75   \n",
       "\n",
       "   num_subscribers  num_reviews  num_lectures       level  content_duration  \\\n",
       "0             2147           23            51  All Levels               1.5   \n",
       "1             2792          923           274  All Levels              39.0   \n",
       "\n",
       "    published_timestamp           subject  \n",
       "0  2017-01-18T20:58:58Z  Business Finance  \n",
       "1  2017-03-09T16:34:20Z  Business Finance  "
      ]
     },
     "execution_count": 9,
     "metadata": {},
     "output_type": "execute_result"
    }
   ],
   "source": [
    "udemy_df.head(2)"
   ]
  },
  {
   "attachments": {},
   "cell_type": "markdown",
   "metadata": {},
   "source": [
    "Diccionario de columnas del dataframe **_`udemy_courses.csv`_**."
   ]
  },
  {
   "attachments": {},
   "cell_type": "markdown",
   "metadata": {},
   "source": [
    "<center>\n",
    "\n",
    "| **Característica** | **Descripción** |\n",
    "| :----------------: | :-------------:|\n",
    "|course_id|_Id del curso_|\n",
    "|course_title|_Titulo del curso_|\n",
    "|url|_Link del curso_|\n",
    "|is_paid|_Si el curso es pago o no_|\n",
    "|price|_Precio del curso en USD_|\n",
    "|num_subscribers|_Número de estudiantes inscritos_|\n",
    "|num_reviews|_Número de reseñas del curso_|\n",
    "|num_lectures|_Lecturas del curso_|\n",
    "|level|_Nivel de dificultad del curso_|\n",
    "|content_duration|_Duracion del curso en horas_|\n",
    "|published_timestamp|_Fecha de publicación del curso_|\n",
    "|subject|_Área a la que pertenece el curso_|\n",
    "\n",
    "<center>"
   ]
  },
  {
   "cell_type": "code",
   "execution_count": 10,
   "metadata": {},
   "outputs": [
    {
     "name": "stdout",
     "output_type": "stream",
     "text": [
      "(3678, 12)\n",
      "\n",
      "<class 'pandas.core.frame.DataFrame'>\n",
      "RangeIndex: 3678 entries, 0 to 3677\n",
      "Data columns (total 12 columns):\n",
      " #   Column               Non-Null Count  Dtype  \n",
      "---  ------               --------------  -----  \n",
      " 0   course_id            3678 non-null   int64  \n",
      " 1   course_title         3678 non-null   object \n",
      " 2   url                  3678 non-null   object \n",
      " 3   is_paid              3678 non-null   bool   \n",
      " 4   price                3678 non-null   int64  \n",
      " 5   num_subscribers      3678 non-null   int64  \n",
      " 6   num_reviews          3678 non-null   int64  \n",
      " 7   num_lectures         3678 non-null   int64  \n",
      " 8   level                3678 non-null   object \n",
      " 9   content_duration     3678 non-null   float64\n",
      " 10  published_timestamp  3678 non-null   object \n",
      " 11  subject              3678 non-null   object \n",
      "dtypes: bool(1), float64(1), int64(5), object(5)\n",
      "memory usage: 319.8+ KB\n",
      "None\n"
     ]
    }
   ],
   "source": [
    "print(udemy_df.shape)\n",
    "print()\n",
    "print(udemy_df.info())"
   ]
  },
  {
   "cell_type": "markdown",
   "metadata": {},
   "source": [
    "👆 Como se Observa no tenemos valores vacios en este Dataset"
   ]
  },
  {
   "attachments": {},
   "cell_type": "markdown",
   "metadata": {},
   "source": [
    "## Un ETL Rapido para identificar fallas en los datos ⚡"
   ]
  },
  {
   "attachments": {},
   "cell_type": "markdown",
   "metadata": {},
   "source": [
    "### Coursera"
   ]
  },
  {
   "attachments": {},
   "cell_type": "markdown",
   "metadata": {},
   "source": [
    "💡 Recordemos que el Dataset Coursera_courses.csv no tiene valores vacios"
   ]
  },
  {
   "cell_type": "code",
   "execution_count": 11,
   "metadata": {},
   "outputs": [
    {
     "data": {
      "text/plain": [
       "machine-learning                             1\n",
       "english-composition                          1\n",
       "wharton-communication-skills                 1\n",
       "introduction-trading-machine-learning-gcp    1\n",
       "python-programming-introduction              1\n",
       "                                            ..\n",
       "solar-energy-basics                          1\n",
       "bootstrap-4                                  1\n",
       "google-cloud-java-spring                     1\n",
       "forensic-science                             1\n",
       "data-science-course                          1\n",
       "Name: course_id, Length: 623, dtype: int64"
      ]
     },
     "execution_count": 11,
     "metadata": {},
     "output_type": "execute_result"
    }
   ],
   "source": [
    "coursera_df['course_id'].value_counts(ascending=False)"
   ]
  },
  {
   "attachments": {},
   "cell_type": "markdown",
   "metadata": {},
   "source": [
    "👆 No tenemos valores duplicados filtrados por la columna 'course_id'"
   ]
  },
  {
   "attachments": {},
   "cell_type": "markdown",
   "metadata": {},
   "source": [
    "👇 Identificamos que la informacion de Cousera no tiene asociado el lenguaje del curso, el cual para este caso se identificara con la comlumna 'name' y veremos como se relaciona con el resto de Datos."
   ]
  },
  {
   "cell_type": "code",
   "execution_count": 12,
   "metadata": {},
   "outputs": [],
   "source": [
    "def detectar_idioma(texto):\n",
    "    try:\n",
    "            lang = detect(texto)\n",
    "            if lang == 'en':\n",
    "                return 'English'\n",
    "            elif lang == 'es':\n",
    "                return 'Spanish'\n",
    "            elif lang == 'de':\n",
    "                return 'Deutsch'\n",
    "            elif lang == 'fr':\n",
    "                return 'French'\n",
    "            elif lang == 'it':\n",
    "                return 'Italian'\n",
    "            elif lang == 'pt':\n",
    "                return 'Portuguese'\n",
    "            elif lang == 'ar':\n",
    "                return 'Arabic'\n",
    "            elif lang == 'zh':\n",
    "                return 'Chinese'\n",
    "            elif lang == 'ja':\n",
    "                return 'Japanese'\n",
    "            elif lang == 'ru':\n",
    "                return 'Russian'\n",
    "            else:\n",
    "                return 'English'\n",
    "    except:\n",
    "        return 'Other'"
   ]
  },
  {
   "cell_type": "code",
   "execution_count": 13,
   "metadata": {},
   "outputs": [],
   "source": [
    "coursera_df['language']=coursera_df['name'].apply(detectar_idioma)"
   ]
  },
  {
   "cell_type": "code",
   "execution_count": 14,
   "metadata": {},
   "outputs": [
    {
     "data": {
      "text/html": [
       "<div>\n",
       "<style scoped>\n",
       "    .dataframe tbody tr th:only-of-type {\n",
       "        vertical-align: middle;\n",
       "    }\n",
       "\n",
       "    .dataframe tbody tr th {\n",
       "        vertical-align: top;\n",
       "    }\n",
       "\n",
       "    .dataframe thead th {\n",
       "        text-align: right;\n",
       "    }\n",
       "</style>\n",
       "<table border=\"1\" class=\"dataframe\">\n",
       "  <thead>\n",
       "    <tr style=\"text-align: right;\">\n",
       "      <th></th>\n",
       "      <th>name</th>\n",
       "      <th>institution</th>\n",
       "      <th>course_url</th>\n",
       "      <th>course_id</th>\n",
       "      <th>language</th>\n",
       "    </tr>\n",
       "  </thead>\n",
       "  <tbody>\n",
       "    <tr>\n",
       "      <th>0</th>\n",
       "      <td>Machine Learning</td>\n",
       "      <td>Stanford University</td>\n",
       "      <td>https://www.coursera.org/learn/machine-learning</td>\n",
       "      <td>machine-learning</td>\n",
       "      <td>English</td>\n",
       "    </tr>\n",
       "    <tr>\n",
       "      <th>1</th>\n",
       "      <td>Indigenous Canada</td>\n",
       "      <td>University of Alberta</td>\n",
       "      <td>https://www.coursera.org/learn/indigenous-canada</td>\n",
       "      <td>indigenous-canada</td>\n",
       "      <td>Spanish</td>\n",
       "    </tr>\n",
       "    <tr>\n",
       "      <th>2</th>\n",
       "      <td>The Science of Well-Being</td>\n",
       "      <td>Yale University</td>\n",
       "      <td>https://www.coursera.org/learn/the-science-of-...</td>\n",
       "      <td>the-science-of-well-being</td>\n",
       "      <td>English</td>\n",
       "    </tr>\n",
       "    <tr>\n",
       "      <th>3</th>\n",
       "      <td>Technical Support Fundamentals</td>\n",
       "      <td>Google</td>\n",
       "      <td>https://www.coursera.org/learn/technical-suppo...</td>\n",
       "      <td>technical-support-fundamentals</td>\n",
       "      <td>English</td>\n",
       "    </tr>\n",
       "    <tr>\n",
       "      <th>4</th>\n",
       "      <td>Become a CBRS Certified Professional Installer...</td>\n",
       "      <td>Google - Spectrum Sharing</td>\n",
       "      <td>https://www.coursera.org/learn/google-cbrs-cpi...</td>\n",
       "      <td>google-cbrs-cpi-training</td>\n",
       "      <td>English</td>\n",
       "    </tr>\n",
       "  </tbody>\n",
       "</table>\n",
       "</div>"
      ],
      "text/plain": [
       "                                                name  \\\n",
       "0                                   Machine Learning   \n",
       "1                                  Indigenous Canada   \n",
       "2                          The Science of Well-Being   \n",
       "3                     Technical Support Fundamentals   \n",
       "4  Become a CBRS Certified Professional Installer...   \n",
       "\n",
       "                 institution  \\\n",
       "0        Stanford University   \n",
       "1      University of Alberta   \n",
       "2            Yale University   \n",
       "3                     Google   \n",
       "4  Google - Spectrum Sharing   \n",
       "\n",
       "                                          course_url  \\\n",
       "0    https://www.coursera.org/learn/machine-learning   \n",
       "1   https://www.coursera.org/learn/indigenous-canada   \n",
       "2  https://www.coursera.org/learn/the-science-of-...   \n",
       "3  https://www.coursera.org/learn/technical-suppo...   \n",
       "4  https://www.coursera.org/learn/google-cbrs-cpi...   \n",
       "\n",
       "                        course_id language  \n",
       "0                machine-learning  English  \n",
       "1               indigenous-canada  Spanish  \n",
       "2       the-science-of-well-being  English  \n",
       "3  technical-support-fundamentals  English  \n",
       "4        google-cbrs-cpi-training  English  "
      ]
     },
     "execution_count": 14,
     "metadata": {},
     "output_type": "execute_result"
    }
   ],
   "source": [
    "coursera_df.head(5)"
   ]
  },
  {
   "attachments": {},
   "cell_type": "markdown",
   "metadata": {},
   "source": [
    "👇 Eliminamos la Columna de 'course_url' ya que nos nos servira en el analisis realizado en Power Bi"
   ]
  },
  {
   "cell_type": "code",
   "execution_count": 15,
   "metadata": {},
   "outputs": [],
   "source": [
    "coursera_df.drop(['course_url'], axis=1, inplace=True)"
   ]
  },
  {
   "attachments": {},
   "cell_type": "markdown",
   "metadata": {},
   "source": [
    "Para finalizar exportamos la tabla en formato csv para luego ser importada a Power Bi"
   ]
  },
  {
   "cell_type": "code",
   "execution_count": 16,
   "metadata": {},
   "outputs": [],
   "source": [
    "coursera_df.to_csv('DATASETS\\_ETL_COUSERA.csv',index=False,sep='|')"
   ]
  },
  {
   "attachments": {},
   "cell_type": "markdown",
   "metadata": {},
   "source": [
    "### Coursera Reviews"
   ]
  },
  {
   "attachments": {},
   "cell_type": "markdown",
   "metadata": {},
   "source": [
    "💡 Recordamos que la columna \"reviews\" tiene espacios vacios"
   ]
  },
  {
   "cell_type": "code",
   "execution_count": 17,
   "metadata": {},
   "outputs": [
    {
     "name": "stdout",
     "output_type": "stream",
     "text": [
      "<class 'pandas.core.frame.DataFrame'>\n",
      "RangeIndex: 1454711 entries, 0 to 1454710\n",
      "Data columns (total 5 columns):\n",
      " #   Column        Non-Null Count    Dtype \n",
      "---  ------        --------------    ----- \n",
      " 0   reviews       1454571 non-null  object\n",
      " 1   reviewers     1454711 non-null  object\n",
      " 2   date_reviews  1454711 non-null  object\n",
      " 3   rating        1454711 non-null  int64 \n",
      " 4   course_id     1454711 non-null  object\n",
      "dtypes: int64(1), object(4)\n",
      "memory usage: 55.5+ MB\n"
     ]
    }
   ],
   "source": [
    "coursera_rewdf.info()"
   ]
  },
  {
   "cell_type": "code",
   "execution_count": 18,
   "metadata": {},
   "outputs": [
    {
     "data": {
      "text/plain": [
       "reviews         140\n",
       "reviewers         0\n",
       "date_reviews      0\n",
       "rating            0\n",
       "course_id         0\n",
       "dtype: int64"
      ]
     },
     "execution_count": 18,
     "metadata": {},
     "output_type": "execute_result"
    }
   ],
   "source": [
    "(coursera_rewdf.isnull().sum().sort_values(ascending=False))"
   ]
  },
  {
   "attachments": {},
   "cell_type": "markdown",
   "metadata": {},
   "source": [
    "Como el item de Reviews en una variable categorica la cual el valor NaN solo indica \"Sin Reseña\" por lo tanto los campos nulos se llenaran con estos valores"
   ]
  },
  {
   "cell_type": "code",
   "execution_count": 19,
   "metadata": {},
   "outputs": [],
   "source": [
    "coursera_rewdf['reviews'].fillna('sin reseña', inplace=True)"
   ]
  },
  {
   "attachments": {},
   "cell_type": "markdown",
   "metadata": {},
   "source": [
    "Normalizaicon de Palabras en la columna Review"
   ]
  },
  {
   "cell_type": "code",
   "execution_count": 20,
   "metadata": {},
   "outputs": [],
   "source": [
    "def remove_special_characters(text):\n",
    "    # Patrón de expresión regular para encontrar caracteres especiales\n",
    "    pattern = r'[^a-zA-Z0-9\\s]'\n",
    "    \n",
    "    # Remover los caracteres especiales utilizando el patrón\n",
    "    cleaned_text = re.sub(pattern, '', text)\n",
    "    \n",
    "    return cleaned_text"
   ]
  },
  {
   "cell_type": "code",
   "execution_count": 21,
   "metadata": {},
   "outputs": [],
   "source": [
    "# Aliminamos espacios al inicio o final de reviews\n",
    "coursera_rewdf[\"reviews\"] = coursera_rewdf[\"reviews\"].str.lstrip()\n",
    "coursera_rewdf[\"reviews\"] = coursera_rewdf[\"reviews\"].str.rstrip()\n",
    "\n",
    "#eliminamos caracteres especiales al principio y final \n",
    "coursera_rewdf[\"reviews\"] = coursera_rewdf[\"reviews\"].apply(remove_special_characters)\n",
    "\n",
    "#Convertimos la columna en minusculas\n",
    "coursera_rewdf[\"reviews\"] = coursera_rewdf[\"reviews\"].str.lower()"
   ]
  },
  {
   "attachments": {},
   "cell_type": "markdown",
   "metadata": {},
   "source": [
    "Se revisan valores duplicados en los comentarios"
   ]
  },
  {
   "cell_type": "code",
   "execution_count": 22,
   "metadata": {},
   "outputs": [
    {
     "data": {
      "text/plain": [
       "By Deleted A     5412\n",
       "By Muhammad A     649\n",
       "By Abhishek S     440\n",
       "By David M        435\n",
       "By Michael S      431\n",
       "                 ... \n",
       "By Calvin N         1\n",
       "By Kachan O V       1\n",
       "By Tan S X A        1\n",
       "By Yusong S         1\n",
       "By Yu-Jhen-Wu       1\n",
       "Name: reviewers, Length: 287808, dtype: int64"
      ]
     },
     "execution_count": 22,
     "metadata": {},
     "output_type": "execute_result"
    }
   ],
   "source": [
    "coursera_rewdf['reviewers'].value_counts(ascending=False)"
   ]
  },
  {
   "cell_type": "code",
   "execution_count": 23,
   "metadata": {},
   "outputs": [
    {
     "data": {
      "text/html": [
       "<div>\n",
       "<style scoped>\n",
       "    .dataframe tbody tr th:only-of-type {\n",
       "        vertical-align: middle;\n",
       "    }\n",
       "\n",
       "    .dataframe tbody tr th {\n",
       "        vertical-align: top;\n",
       "    }\n",
       "\n",
       "    .dataframe thead th {\n",
       "        text-align: right;\n",
       "    }\n",
       "</style>\n",
       "<table border=\"1\" class=\"dataframe\">\n",
       "  <thead>\n",
       "    <tr style=\"text-align: right;\">\n",
       "      <th></th>\n",
       "      <th>reviews</th>\n",
       "      <th>reviewers</th>\n",
       "      <th>date_reviews</th>\n",
       "      <th>rating</th>\n",
       "      <th>course_id</th>\n",
       "      <th>concatenated_col</th>\n",
       "    </tr>\n",
       "  </thead>\n",
       "  <tbody>\n",
       "    <tr>\n",
       "      <th>0</th>\n",
       "      <td>pretty dry but i was able to pass with just tw...</td>\n",
       "      <td>By Robert S</td>\n",
       "      <td>Feb 12, 2020</td>\n",
       "      <td>4</td>\n",
       "      <td>google-cbrs-cpi-training</td>\n",
       "      <td>google-cbrs-cpi-training By Robert S Feb 12, 2...</td>\n",
       "    </tr>\n",
       "    <tr>\n",
       "      <th>1</th>\n",
       "      <td>would be a better experience if the video and ...</td>\n",
       "      <td>By Gabriel E R</td>\n",
       "      <td>Sep 28, 2020</td>\n",
       "      <td>4</td>\n",
       "      <td>google-cbrs-cpi-training</td>\n",
       "      <td>google-cbrs-cpi-training By Gabriel E R Sep 28...</td>\n",
       "    </tr>\n",
       "    <tr>\n",
       "      <th>2</th>\n",
       "      <td>information was perfect the program itself was...</td>\n",
       "      <td>By Jacob D</td>\n",
       "      <td>Apr 08, 2020</td>\n",
       "      <td>4</td>\n",
       "      <td>google-cbrs-cpi-training</td>\n",
       "      <td>google-cbrs-cpi-training By Jacob D Apr 08, 20...</td>\n",
       "    </tr>\n",
       "    <tr>\n",
       "      <th>3</th>\n",
       "      <td>a few grammatical mistakes on test made me do ...</td>\n",
       "      <td>By Dale B</td>\n",
       "      <td>Feb 24, 2020</td>\n",
       "      <td>4</td>\n",
       "      <td>google-cbrs-cpi-training</td>\n",
       "      <td>google-cbrs-cpi-training By Dale B Feb 24, 202...</td>\n",
       "    </tr>\n",
       "    <tr>\n",
       "      <th>4</th>\n",
       "      <td>excellent course and the training provided was...</td>\n",
       "      <td>By Sean G</td>\n",
       "      <td>Jun 18, 2020</td>\n",
       "      <td>4</td>\n",
       "      <td>google-cbrs-cpi-training</td>\n",
       "      <td>google-cbrs-cpi-training By Sean G Jun 18, 202...</td>\n",
       "    </tr>\n",
       "  </tbody>\n",
       "</table>\n",
       "</div>"
      ],
      "text/plain": [
       "                                             reviews       reviewers  \\\n",
       "0  pretty dry but i was able to pass with just tw...     By Robert S   \n",
       "1  would be a better experience if the video and ...  By Gabriel E R   \n",
       "2  information was perfect the program itself was...      By Jacob D   \n",
       "3  a few grammatical mistakes on test made me do ...       By Dale B   \n",
       "4  excellent course and the training provided was...       By Sean G   \n",
       "\n",
       "   date_reviews  rating                 course_id  \\\n",
       "0  Feb 12, 2020       4  google-cbrs-cpi-training   \n",
       "1  Sep 28, 2020       4  google-cbrs-cpi-training   \n",
       "2  Apr 08, 2020       4  google-cbrs-cpi-training   \n",
       "3  Feb 24, 2020       4  google-cbrs-cpi-training   \n",
       "4  Jun 18, 2020       4  google-cbrs-cpi-training   \n",
       "\n",
       "                                    concatenated_col  \n",
       "0  google-cbrs-cpi-training By Robert S Feb 12, 2...  \n",
       "1  google-cbrs-cpi-training By Gabriel E R Sep 28...  \n",
       "2  google-cbrs-cpi-training By Jacob D Apr 08, 20...  \n",
       "3  google-cbrs-cpi-training By Dale B Feb 24, 202...  \n",
       "4  google-cbrs-cpi-training By Sean G Jun 18, 202...  "
      ]
     },
     "execution_count": 23,
     "metadata": {},
     "output_type": "execute_result"
    }
   ],
   "source": [
    "concatenado= pd.DataFrame({'concatenated_col': coursera_rewdf['course_id'] + ' ' + coursera_rewdf['reviewers'] + ' ' + coursera_rewdf['date_reviews'] + ' ' + coursera_rewdf['reviews']})\n",
    "coursera_rewdf['concatenated_col'] = concatenado['concatenated_col']\n",
    "coursera_rewdf.head(5)"
   ]
  },
  {
   "attachments": {},
   "cell_type": "markdown",
   "metadata": {},
   "source": [
    "se evidencian que hay reviews que se duplican no solo por couse_id (lo cual puede ser posible) sin embargo con somentarios repetidos por 'reviewers', por lo cual se procederan a eliminar"
   ]
  },
  {
   "cell_type": "code",
   "execution_count": 24,
   "metadata": {},
   "outputs": [
    {
     "data": {
      "text/html": [
       "<div>\n",
       "<style scoped>\n",
       "    .dataframe tbody tr th:only-of-type {\n",
       "        vertical-align: middle;\n",
       "    }\n",
       "\n",
       "    .dataframe tbody tr th {\n",
       "        vertical-align: top;\n",
       "    }\n",
       "\n",
       "    .dataframe thead th {\n",
       "        text-align: right;\n",
       "    }\n",
       "</style>\n",
       "<table border=\"1\" class=\"dataframe\">\n",
       "  <thead>\n",
       "    <tr style=\"text-align: right;\">\n",
       "      <th></th>\n",
       "      <th>reviews</th>\n",
       "      <th>reviewers</th>\n",
       "      <th>date_reviews</th>\n",
       "      <th>rating</th>\n",
       "      <th>course_id</th>\n",
       "      <th>concatenated_col</th>\n",
       "    </tr>\n",
       "  </thead>\n",
       "  <tbody>\n",
       "    <tr>\n",
       "      <th>818738</th>\n",
       "      <td>it was really great experience</td>\n",
       "      <td>By \\t M N H</td>\n",
       "      <td>Sep 02, 2020</td>\n",
       "      <td>5</td>\n",
       "      <td>grammar-punctuation</td>\n",
       "      <td>grammar-punctuation By \\t M N H Sep 02, 2020 i...</td>\n",
       "    </tr>\n",
       "    <tr>\n",
       "      <th>818713</th>\n",
       "      <td>it was really great experience</td>\n",
       "      <td>By \\t M N H</td>\n",
       "      <td>Sep 02, 2020</td>\n",
       "      <td>5</td>\n",
       "      <td>grammar-punctuation</td>\n",
       "      <td>grammar-punctuation By \\t M N H Sep 02, 2020 i...</td>\n",
       "    </tr>\n",
       "    <tr>\n",
       "      <th>818688</th>\n",
       "      <td>it was really great experience</td>\n",
       "      <td>By \\t M N H</td>\n",
       "      <td>Sep 02, 2020</td>\n",
       "      <td>5</td>\n",
       "      <td>grammar-punctuation</td>\n",
       "      <td>grammar-punctuation By \\t M N H Sep 02, 2020 i...</td>\n",
       "    </tr>\n",
       "    <tr>\n",
       "      <th>301748</th>\n",
       "      <td>this course is amazing python is so easy langu...</td>\n",
       "      <td>By \\t M R I</td>\n",
       "      <td>Sep 15, 2020</td>\n",
       "      <td>5</td>\n",
       "      <td>python-data</td>\n",
       "      <td>python-data By \\t M R I Sep 15, 2020 this cour...</td>\n",
       "    </tr>\n",
       "    <tr>\n",
       "      <th>301773</th>\n",
       "      <td>this course is amazing python is so easy langu...</td>\n",
       "      <td>By \\t M R I</td>\n",
       "      <td>Sep 15, 2020</td>\n",
       "      <td>5</td>\n",
       "      <td>python-data</td>\n",
       "      <td>python-data By \\t M R I Sep 15, 2020 this cour...</td>\n",
       "    </tr>\n",
       "    <tr>\n",
       "      <th>...</th>\n",
       "      <td>...</td>\n",
       "      <td>...</td>\n",
       "      <td>...</td>\n",
       "      <td>...</td>\n",
       "      <td>...</td>\n",
       "      <td>...</td>\n",
       "    </tr>\n",
       "    <tr>\n",
       "      <th>1326649</th>\n",
       "      <td>i loved the way of learning and how this cours...</td>\n",
       "      <td>By ���� � �</td>\n",
       "      <td>Jan 19, 2020</td>\n",
       "      <td>5</td>\n",
       "      <td>strategic-management</td>\n",
       "      <td>strategic-management By ���� � � Jan 19, 2020 ...</td>\n",
       "    </tr>\n",
       "    <tr>\n",
       "      <th>1326624</th>\n",
       "      <td>i loved the way of learning and how this cours...</td>\n",
       "      <td>By ���� � �</td>\n",
       "      <td>Jan 19, 2020</td>\n",
       "      <td>5</td>\n",
       "      <td>strategic-management</td>\n",
       "      <td>strategic-management By ���� � � Jan 19, 2020 ...</td>\n",
       "    </tr>\n",
       "    <tr>\n",
       "      <th>264422</th>\n",
       "      <td>thanks providing this excellent course  these ...</td>\n",
       "      <td>By 🐻 �</td>\n",
       "      <td>Aug 22, 2020</td>\n",
       "      <td>5</td>\n",
       "      <td>learning-how-to-learn</td>\n",
       "      <td>learning-how-to-learn By 🐻 � Aug 22, 2020 than...</td>\n",
       "    </tr>\n",
       "    <tr>\n",
       "      <th>264447</th>\n",
       "      <td>thanks providing this excellent course  these ...</td>\n",
       "      <td>By 🐻 �</td>\n",
       "      <td>Aug 22, 2020</td>\n",
       "      <td>5</td>\n",
       "      <td>learning-how-to-learn</td>\n",
       "      <td>learning-how-to-learn By 🐻 � Aug 22, 2020 than...</td>\n",
       "    </tr>\n",
       "    <tr>\n",
       "      <th>264397</th>\n",
       "      <td>thanks providing this excellent course  these ...</td>\n",
       "      <td>By 🐻 �</td>\n",
       "      <td>Aug 22, 2020</td>\n",
       "      <td>5</td>\n",
       "      <td>learning-how-to-learn</td>\n",
       "      <td>learning-how-to-learn By 🐻 � Aug 22, 2020 than...</td>\n",
       "    </tr>\n",
       "  </tbody>\n",
       "</table>\n",
       "<p>1403449 rows × 6 columns</p>\n",
       "</div>"
      ],
      "text/plain": [
       "                                                   reviews    reviewers  \\\n",
       "818738                      it was really great experience  By \\t M N H   \n",
       "818713                      it was really great experience  By \\t M N H   \n",
       "818688                      it was really great experience  By \\t M N H   \n",
       "301748   this course is amazing python is so easy langu...  By \\t M R I   \n",
       "301773   this course is amazing python is so easy langu...  By \\t M R I   \n",
       "...                                                    ...          ...   \n",
       "1326649  i loved the way of learning and how this cours...  By ���� � �   \n",
       "1326624  i loved the way of learning and how this cours...  By ���� � �   \n",
       "264422   thanks providing this excellent course  these ...       By 🐻 �   \n",
       "264447   thanks providing this excellent course  these ...       By 🐻 �   \n",
       "264397   thanks providing this excellent course  these ...       By 🐻 �   \n",
       "\n",
       "         date_reviews  rating              course_id  \\\n",
       "818738   Sep 02, 2020       5    grammar-punctuation   \n",
       "818713   Sep 02, 2020       5    grammar-punctuation   \n",
       "818688   Sep 02, 2020       5    grammar-punctuation   \n",
       "301748   Sep 15, 2020       5            python-data   \n",
       "301773   Sep 15, 2020       5            python-data   \n",
       "...               ...     ...                    ...   \n",
       "1326649  Jan 19, 2020       5   strategic-management   \n",
       "1326624  Jan 19, 2020       5   strategic-management   \n",
       "264422   Aug 22, 2020       5  learning-how-to-learn   \n",
       "264447   Aug 22, 2020       5  learning-how-to-learn   \n",
       "264397   Aug 22, 2020       5  learning-how-to-learn   \n",
       "\n",
       "                                          concatenated_col  \n",
       "818738   grammar-punctuation By \\t M N H Sep 02, 2020 i...  \n",
       "818713   grammar-punctuation By \\t M N H Sep 02, 2020 i...  \n",
       "818688   grammar-punctuation By \\t M N H Sep 02, 2020 i...  \n",
       "301748   python-data By \\t M R I Sep 15, 2020 this cour...  \n",
       "301773   python-data By \\t M R I Sep 15, 2020 this cour...  \n",
       "...                                                    ...  \n",
       "1326649  strategic-management By ���� � � Jan 19, 2020 ...  \n",
       "1326624  strategic-management By ���� � � Jan 19, 2020 ...  \n",
       "264422   learning-how-to-learn By 🐻 � Aug 22, 2020 than...  \n",
       "264447   learning-how-to-learn By 🐻 � Aug 22, 2020 than...  \n",
       "264397   learning-how-to-learn By 🐻 � Aug 22, 2020 than...  \n",
       "\n",
       "[1403449 rows x 6 columns]"
      ]
     },
     "execution_count": 24,
     "metadata": {},
     "output_type": "execute_result"
    }
   ],
   "source": [
    "coursera_rewdf[coursera_rewdf['concatenated_col'].duplicated(keep=False)].sort_values(by='reviewers')"
   ]
  },
  {
   "cell_type": "code",
   "execution_count": 25,
   "metadata": {},
   "outputs": [],
   "source": [
    "coursera_rewdf.drop_duplicates(subset=[\"concatenated_col\"], keep='first', inplace=True)"
   ]
  },
  {
   "cell_type": "code",
   "execution_count": 26,
   "metadata": {},
   "outputs": [],
   "source": [
    "coursera_rewdf.drop('concatenated_col', axis=1, inplace=True)"
   ]
  },
  {
   "attachments": {},
   "cell_type": "markdown",
   "metadata": {},
   "source": [
    "Pasamos la columna 'date_reviews' a formato datetime"
   ]
  },
  {
   "cell_type": "code",
   "execution_count": 27,
   "metadata": {},
   "outputs": [],
   "source": [
    "coursera_rewdf['date_reviews'] = pd.to_datetime(coursera_rewdf['date_reviews'])"
   ]
  },
  {
   "attachments": {},
   "cell_type": "markdown",
   "metadata": {},
   "source": [
    "Para finalizar exportamos la tabla en formato csv para luego ser importada a Power Bi"
   ]
  },
  {
   "cell_type": "code",
   "execution_count": 28,
   "metadata": {},
   "outputs": [],
   "source": [
    "coursera_rewdf.to_csv('DATASETS\\_ETL_COUSERA_REVIEWS.csv',index=False,sep='|')"
   ]
  },
  {
   "attachments": {},
   "cell_type": "markdown",
   "metadata": {},
   "source": [
    "### EDX"
   ]
  },
  {
   "cell_type": "code",
   "execution_count": 29,
   "metadata": {},
   "outputs": [
    {
     "data": {
      "text/html": [
       "<div>\n",
       "<style scoped>\n",
       "    .dataframe tbody tr th:only-of-type {\n",
       "        vertical-align: middle;\n",
       "    }\n",
       "\n",
       "    .dataframe tbody tr th {\n",
       "        vertical-align: top;\n",
       "    }\n",
       "\n",
       "    .dataframe thead th {\n",
       "        text-align: right;\n",
       "    }\n",
       "</style>\n",
       "<table border=\"1\" class=\"dataframe\">\n",
       "  <thead>\n",
       "    <tr style=\"text-align: right;\">\n",
       "      <th></th>\n",
       "      <th>title</th>\n",
       "      <th>summary</th>\n",
       "      <th>n_enrolled</th>\n",
       "      <th>course_type</th>\n",
       "      <th>institution</th>\n",
       "      <th>instructors</th>\n",
       "      <th>Level</th>\n",
       "      <th>subject</th>\n",
       "      <th>language</th>\n",
       "      <th>subtitles</th>\n",
       "      <th>course_effort</th>\n",
       "      <th>course_length</th>\n",
       "      <th>price</th>\n",
       "      <th>course_description</th>\n",
       "      <th>course_syllabus</th>\n",
       "      <th>course_url</th>\n",
       "    </tr>\n",
       "  </thead>\n",
       "  <tbody>\n",
       "    <tr>\n",
       "      <th>0</th>\n",
       "      <td>How to Learn Online</td>\n",
       "      <td>Learn essential strategies for successful onli...</td>\n",
       "      <td>124,980</td>\n",
       "      <td>Self-paced on your time</td>\n",
       "      <td>edX</td>\n",
       "      <td>Nina Huntemann-Robyn Belair-Ben Piscopo</td>\n",
       "      <td>Introductory</td>\n",
       "      <td>Education &amp; Teacher Training</td>\n",
       "      <td>English</td>\n",
       "      <td>English</td>\n",
       "      <td>2–3 hours per week</td>\n",
       "      <td>2 Weeks</td>\n",
       "      <td>FREE-Add a Verified Certificate for $49 USD</td>\n",
       "      <td>Designed for those who are new to elearning, t...</td>\n",
       "      <td>Welcome - We start with opportunities to meet ...</td>\n",
       "      <td>https://www.edx.org/course/how-to-learn-online</td>\n",
       "    </tr>\n",
       "    <tr>\n",
       "      <th>1</th>\n",
       "      <td>Programming for Everybody (Getting Started wit...</td>\n",
       "      <td>This course is a \"no prerequisite\" introductio...</td>\n",
       "      <td>293,864</td>\n",
       "      <td>Self-paced on your time</td>\n",
       "      <td>The University of Michigan</td>\n",
       "      <td>Charles Severance</td>\n",
       "      <td>Introductory</td>\n",
       "      <td>Computer Science</td>\n",
       "      <td>English</td>\n",
       "      <td>English</td>\n",
       "      <td>2–4 hours per week</td>\n",
       "      <td>7 Weeks</td>\n",
       "      <td>FREE-Add a Verified Certificate for $49 USD</td>\n",
       "      <td>This course aims to teach everyone the basics ...</td>\n",
       "      <td>NaN</td>\n",
       "      <td>https://www.edx.org/course/programming-for-eve...</td>\n",
       "    </tr>\n",
       "  </tbody>\n",
       "</table>\n",
       "</div>"
      ],
      "text/plain": [
       "                                               title  \\\n",
       "0                                How to Learn Online   \n",
       "1  Programming for Everybody (Getting Started wit...   \n",
       "\n",
       "                                             summary n_enrolled  \\\n",
       "0  Learn essential strategies for successful onli...    124,980   \n",
       "1  This course is a \"no prerequisite\" introductio...    293,864   \n",
       "\n",
       "               course_type                 institution  \\\n",
       "0  Self-paced on your time                         edX   \n",
       "1  Self-paced on your time  The University of Michigan   \n",
       "\n",
       "                               instructors         Level  \\\n",
       "0  Nina Huntemann-Robyn Belair-Ben Piscopo  Introductory   \n",
       "1                        Charles Severance  Introductory   \n",
       "\n",
       "                        subject language subtitles       course_effort  \\\n",
       "0  Education & Teacher Training  English   English  2–3 hours per week   \n",
       "1              Computer Science  English   English  2–4 hours per week   \n",
       "\n",
       "  course_length                                        price  \\\n",
       "0       2 Weeks  FREE-Add a Verified Certificate for $49 USD   \n",
       "1       7 Weeks  FREE-Add a Verified Certificate for $49 USD   \n",
       "\n",
       "                                  course_description  \\\n",
       "0  Designed for those who are new to elearning, t...   \n",
       "1  This course aims to teach everyone the basics ...   \n",
       "\n",
       "                                     course_syllabus  \\\n",
       "0  Welcome - We start with opportunities to meet ...   \n",
       "1                                                NaN   \n",
       "\n",
       "                                          course_url  \n",
       "0     https://www.edx.org/course/how-to-learn-online  \n",
       "1  https://www.edx.org/course/programming-for-eve...  "
      ]
     },
     "execution_count": 29,
     "metadata": {},
     "output_type": "execute_result"
    }
   ],
   "source": [
    "edx_df.head(2)"
   ]
  },
  {
   "cell_type": "code",
   "execution_count": 30,
   "metadata": {},
   "outputs": [
    {
     "name": "stdout",
     "output_type": "stream",
     "text": [
      "<class 'pandas.core.frame.DataFrame'>\n",
      "RangeIndex: 975 entries, 0 to 974\n",
      "Data columns (total 16 columns):\n",
      " #   Column              Non-Null Count  Dtype \n",
      "---  ------              --------------  ----- \n",
      " 0   title               975 non-null    object\n",
      " 1   summary             922 non-null    object\n",
      " 2   n_enrolled          855 non-null    object\n",
      " 3   course_type         975 non-null    object\n",
      " 4   institution         975 non-null    object\n",
      " 5   instructors         972 non-null    object\n",
      " 6   Level               975 non-null    object\n",
      " 7   subject             975 non-null    object\n",
      " 8   language            975 non-null    object\n",
      " 9   subtitles           972 non-null    object\n",
      " 10  course_effort       975 non-null    object\n",
      " 11  course_length       975 non-null    object\n",
      " 12  price               975 non-null    object\n",
      " 13  course_description  935 non-null    object\n",
      " 14  course_syllabus     417 non-null    object\n",
      " 15  course_url          975 non-null    object\n",
      "dtypes: object(16)\n",
      "memory usage: 122.0+ KB\n"
     ]
    }
   ],
   "source": [
    "edx_df.info()"
   ]
  },
  {
   "cell_type": "code",
   "execution_count": 31,
   "metadata": {},
   "outputs": [
    {
     "data": {
      "text/plain": [
       "course_syllabus       558\n",
       "n_enrolled            120\n",
       "summary                53\n",
       "course_description     40\n",
       "instructors             3\n",
       "subtitles               3\n",
       "title                   0\n",
       "course_type             0\n",
       "institution             0\n",
       "Level                   0\n",
       "subject                 0\n",
       "language                0\n",
       "course_effort           0\n",
       "course_length           0\n",
       "price                   0\n",
       "course_url              0\n",
       "dtype: int64"
      ]
     },
     "execution_count": 31,
     "metadata": {},
     "output_type": "execute_result"
    }
   ],
   "source": [
    "(edx_df.isnull().sum().sort_values(ascending=False))"
   ]
  },
  {
   "attachments": {},
   "cell_type": "markdown",
   "metadata": {},
   "source": [
    "Eliminamos la columna 'course_syllabus','course_url' e 'instructors' ya que no aportara informacion de valor al analisis"
   ]
  },
  {
   "cell_type": "code",
   "execution_count": 32,
   "metadata": {},
   "outputs": [],
   "source": [
    "edx_df.drop(['course_syllabus','instructors','course_url','course_description','summary'], axis=1, inplace=True)"
   ]
  },
  {
   "attachments": {},
   "cell_type": "markdown",
   "metadata": {},
   "source": [
    "Se identificaron que hay columnas que tienen informacion complemntaria a los datos faltantes, por ejemplo 'summary' conforme a su descripcion en el diccionario es similar a 'course_description', 'subtitles' se puede complementar con 'language', mientras que 'n_enrolled' al ser una variable numerica se puede llenar con 0 ser eliminada"
   ]
  },
  {
   "cell_type": "code",
   "execution_count": 33,
   "metadata": {},
   "outputs": [],
   "source": [
    "edx_df['subtitles'].fillna(edx_df['language'], inplace=True)\n",
    "edx_df['n_enrolled'].fillna(0, inplace=True)"
   ]
  },
  {
   "attachments": {},
   "cell_type": "markdown",
   "metadata": {},
   "source": [
    "Revisamos Valores Duplicados"
   ]
  },
  {
   "cell_type": "code",
   "execution_count": 35,
   "metadata": {},
   "outputs": [
    {
     "data": {
      "text/html": [
       "<div>\n",
       "<style scoped>\n",
       "    .dataframe tbody tr th:only-of-type {\n",
       "        vertical-align: middle;\n",
       "    }\n",
       "\n",
       "    .dataframe tbody tr th {\n",
       "        vertical-align: top;\n",
       "    }\n",
       "\n",
       "    .dataframe thead th {\n",
       "        text-align: right;\n",
       "    }\n",
       "</style>\n",
       "<table border=\"1\" class=\"dataframe\">\n",
       "  <thead>\n",
       "    <tr style=\"text-align: right;\">\n",
       "      <th></th>\n",
       "      <th>title</th>\n",
       "      <th>n_enrolled</th>\n",
       "      <th>course_type</th>\n",
       "      <th>institution</th>\n",
       "      <th>Level</th>\n",
       "      <th>subject</th>\n",
       "      <th>language</th>\n",
       "      <th>subtitles</th>\n",
       "      <th>course_effort</th>\n",
       "      <th>course_length</th>\n",
       "      <th>price</th>\n",
       "    </tr>\n",
       "  </thead>\n",
       "  <tbody>\n",
       "    <tr>\n",
       "      <th>161</th>\n",
       "      <td>Introduction to Marketing</td>\n",
       "      <td>169,126</td>\n",
       "      <td>Self-paced on your time</td>\n",
       "      <td>University of British Columbia</td>\n",
       "      <td>Introductory</td>\n",
       "      <td>Business &amp; Management</td>\n",
       "      <td>English</td>\n",
       "      <td>English</td>\n",
       "      <td>3–5 hours per week</td>\n",
       "      <td>6 Weeks</td>\n",
       "      <td>FREE-Add a Verified Certificate for $150 USD</td>\n",
       "    </tr>\n",
       "    <tr>\n",
       "      <th>561</th>\n",
       "      <td>Introduction to Marketing</td>\n",
       "      <td>0</td>\n",
       "      <td>Self-paced on your time</td>\n",
       "      <td>The University of Edinburgh</td>\n",
       "      <td>Introductory</td>\n",
       "      <td>Business &amp; Management</td>\n",
       "      <td>English</td>\n",
       "      <td>English</td>\n",
       "      <td>2–3 hours per week</td>\n",
       "      <td>6 Weeks</td>\n",
       "      <td>FREE-Add a Verified Certificate for $149 USD</td>\n",
       "    </tr>\n",
       "    <tr>\n",
       "      <th>59</th>\n",
       "      <td>Introduction to Probability</td>\n",
       "      <td>97,291</td>\n",
       "      <td>Self-paced on your time</td>\n",
       "      <td>Harvard University</td>\n",
       "      <td>Intermediate</td>\n",
       "      <td>Data Analysis &amp; Statistics</td>\n",
       "      <td>English</td>\n",
       "      <td>English</td>\n",
       "      <td>5–10 hours per week</td>\n",
       "      <td>10 Weeks</td>\n",
       "      <td>FREE-Add a Verified Certificate for $99 USD</td>\n",
       "    </tr>\n",
       "    <tr>\n",
       "      <th>95</th>\n",
       "      <td>Introduction to Probability</td>\n",
       "      <td>97,291</td>\n",
       "      <td>Self-paced on your time</td>\n",
       "      <td>Harvard University</td>\n",
       "      <td>Intermediate</td>\n",
       "      <td>Data Analysis &amp; Statistics</td>\n",
       "      <td>English</td>\n",
       "      <td>English</td>\n",
       "      <td>5–10 hours per week</td>\n",
       "      <td>10 Weeks</td>\n",
       "      <td>FREE-Add a Verified Certificate for $99 USD</td>\n",
       "    </tr>\n",
       "    <tr>\n",
       "      <th>159</th>\n",
       "      <td>Marketing Management</td>\n",
       "      <td>80,010</td>\n",
       "      <td>Self-paced on your time</td>\n",
       "      <td>Indian Institute of Management Bangalore</td>\n",
       "      <td>Intermediate</td>\n",
       "      <td>Business &amp; Management</td>\n",
       "      <td>English</td>\n",
       "      <td>English, हिन्दी</td>\n",
       "      <td>2–4 hours per week</td>\n",
       "      <td>9 Weeks</td>\n",
       "      <td>FREE-Add a Verified Certificate for $150 USD</td>\n",
       "    </tr>\n",
       "    <tr>\n",
       "      <th>388</th>\n",
       "      <td>Marketing Management</td>\n",
       "      <td>43,415</td>\n",
       "      <td>Instructor-led on a course schedule</td>\n",
       "      <td>The University of Maryland, College Park-Unive...</td>\n",
       "      <td>Advanced</td>\n",
       "      <td>Business &amp; Management</td>\n",
       "      <td>English</td>\n",
       "      <td>English</td>\n",
       "      <td>8–10 hours per week</td>\n",
       "      <td>7 Weeks</td>\n",
       "      <td>FREE-Add a Verified Certificate for $214 USD</td>\n",
       "    </tr>\n",
       "  </tbody>\n",
       "</table>\n",
       "</div>"
      ],
      "text/plain": [
       "                           title n_enrolled  \\\n",
       "161    Introduction to Marketing    169,126   \n",
       "561    Introduction to Marketing          0   \n",
       "59   Introduction to Probability     97,291   \n",
       "95   Introduction to Probability     97,291   \n",
       "159         Marketing Management     80,010   \n",
       "388         Marketing Management     43,415   \n",
       "\n",
       "                             course_type  \\\n",
       "161              Self-paced on your time   \n",
       "561              Self-paced on your time   \n",
       "59               Self-paced on your time   \n",
       "95               Self-paced on your time   \n",
       "159              Self-paced on your time   \n",
       "388  Instructor-led on a course schedule   \n",
       "\n",
       "                                           institution         Level  \\\n",
       "161                     University of British Columbia  Introductory   \n",
       "561                        The University of Edinburgh  Introductory   \n",
       "59                                  Harvard University  Intermediate   \n",
       "95                                  Harvard University  Intermediate   \n",
       "159           Indian Institute of Management Bangalore  Intermediate   \n",
       "388  The University of Maryland, College Park-Unive...      Advanced   \n",
       "\n",
       "                        subject language        subtitles  \\\n",
       "161       Business & Management  English          English   \n",
       "561       Business & Management  English          English   \n",
       "59   Data Analysis & Statistics  English          English   \n",
       "95   Data Analysis & Statistics  English          English   \n",
       "159       Business & Management  English  English, हिन्दी   \n",
       "388       Business & Management  English          English   \n",
       "\n",
       "           course_effort course_length  \\\n",
       "161   3–5 hours per week       6 Weeks   \n",
       "561   2–3 hours per week       6 Weeks   \n",
       "59   5–10 hours per week      10 Weeks   \n",
       "95   5–10 hours per week      10 Weeks   \n",
       "159   2–4 hours per week       9 Weeks   \n",
       "388  8–10 hours per week       7 Weeks   \n",
       "\n",
       "                                            price  \n",
       "161  FREE-Add a Verified Certificate for $150 USD  \n",
       "561  FREE-Add a Verified Certificate for $149 USD  \n",
       "59    FREE-Add a Verified Certificate for $99 USD  \n",
       "95    FREE-Add a Verified Certificate for $99 USD  \n",
       "159  FREE-Add a Verified Certificate for $150 USD  \n",
       "388  FREE-Add a Verified Certificate for $214 USD  "
      ]
     },
     "execution_count": 35,
     "metadata": {},
     "output_type": "execute_result"
    }
   ],
   "source": [
    "edx_df[edx_df['title'].duplicated(keep=False)].sort_values(by='title')"
   ]
  },
  {
   "cell_type": "code",
   "execution_count": 36,
   "metadata": {},
   "outputs": [],
   "source": [
    "edx_df.drop(95, axis=0, inplace=True)"
   ]
  },
  {
   "attachments": {},
   "cell_type": "markdown",
   "metadata": {},
   "source": [
    "👆 como se ve los cursos de 'Introduction to Marketing' y 'Marketing Management' pece a que estan repetidas sin de instituciones diferentes con numeros de estudiantes inscritos diferentes, por lo tanto solo se eliminara el registro del curso 'Introduction to Probability' el cual si tiene sus registros duplicados en todas las columnas"
   ]
  },
  {
   "attachments": {},
   "cell_type": "markdown",
   "metadata": {},
   "source": [
    "👇 En la columnas Price creare una funcion para extraer el costo del curso, si bien todos dicen 'FREE-Add' el costos del curso con certificado si se tiene informacion"
   ]
  },
  {
   "cell_type": "code",
   "execution_count": 37,
   "metadata": {},
   "outputs": [],
   "source": [
    "def extract_price(text):\n",
    "    match = re.search(r'\\$(\\d+)', text)\n",
    "    if match:\n",
    "        return int(match.group(1))\n",
    "    else:\n",
    "        return None"
   ]
  },
  {
   "cell_type": "code",
   "execution_count": 38,
   "metadata": {},
   "outputs": [],
   "source": [
    "edx_df['price'] = edx_df['price'].apply(extract_price)"
   ]
  },
  {
   "attachments": {},
   "cell_type": "markdown",
   "metadata": {},
   "source": [
    "👇 En la columnas 'course_length' creare una funcion para extraer las semana solo en numero"
   ]
  },
  {
   "cell_type": "code",
   "execution_count": 39,
   "metadata": {},
   "outputs": [],
   "source": [
    "def extract_weeks(course_length):\n",
    "    # Buscar el número de semanas usando expresiones regulares\n",
    "    pattern = r'(\\d+)\\s+Weeks'  # Patrón para buscar un número seguido de 'Weeks'\n",
    "    match = re.search(pattern, course_length)\n",
    "    \n",
    "    if match:\n",
    "        # Extraer el número de semanas encontrado\n",
    "        weeks = int(match.group(1))\n",
    "        return weeks\n",
    "    else:\n",
    "        return None"
   ]
  },
  {
   "cell_type": "code",
   "execution_count": 40,
   "metadata": {},
   "outputs": [],
   "source": [
    "edx_df['course_length'] = edx_df['course_length'].apply(extract_weeks)"
   ]
  },
  {
   "attachments": {},
   "cell_type": "markdown",
   "metadata": {},
   "source": [
    "👇 En la columnas 'n_enrolled' reprenta un valor de miles de estudiantes separados por la coma por lo cual eliminare la coma ',' para convertir esta columna de tipo Object a tipo int64."
   ]
  },
  {
   "cell_type": "code",
   "execution_count": 41,
   "metadata": {},
   "outputs": [],
   "source": [
    "edx_df['n_enrolled'] = edx_df['n_enrolled'].str.replace(',', '')\n",
    "\n",
    "# Reemplazar valores nulos por 0\n",
    "edx_df['n_enrolled'] = edx_df['n_enrolled'].fillna('0')\n",
    "\n",
    "# Convertir la columna en tipo int64\n",
    "edx_df['n_enrolled'] = edx_df['n_enrolled'].astype('int64')"
   ]
  },
  {
   "attachments": {},
   "cell_type": "markdown",
   "metadata": {},
   "source": [
    "👇 Exportamos el dataset para luego procesarlo en Power Bi"
   ]
  },
  {
   "cell_type": "code",
   "execution_count": 42,
   "metadata": {},
   "outputs": [
    {
     "data": {
      "text/html": [
       "<div>\n",
       "<style scoped>\n",
       "    .dataframe tbody tr th:only-of-type {\n",
       "        vertical-align: middle;\n",
       "    }\n",
       "\n",
       "    .dataframe tbody tr th {\n",
       "        vertical-align: top;\n",
       "    }\n",
       "\n",
       "    .dataframe thead th {\n",
       "        text-align: right;\n",
       "    }\n",
       "</style>\n",
       "<table border=\"1\" class=\"dataframe\">\n",
       "  <thead>\n",
       "    <tr style=\"text-align: right;\">\n",
       "      <th></th>\n",
       "      <th>title</th>\n",
       "      <th>n_enrolled</th>\n",
       "      <th>course_type</th>\n",
       "      <th>institution</th>\n",
       "      <th>Level</th>\n",
       "      <th>subject</th>\n",
       "      <th>language</th>\n",
       "      <th>subtitles</th>\n",
       "      <th>course_effort</th>\n",
       "      <th>course_length</th>\n",
       "      <th>price</th>\n",
       "    </tr>\n",
       "  </thead>\n",
       "  <tbody>\n",
       "    <tr>\n",
       "      <th>0</th>\n",
       "      <td>How to Learn Online</td>\n",
       "      <td>124980</td>\n",
       "      <td>Self-paced on your time</td>\n",
       "      <td>edX</td>\n",
       "      <td>Introductory</td>\n",
       "      <td>Education &amp; Teacher Training</td>\n",
       "      <td>English</td>\n",
       "      <td>English</td>\n",
       "      <td>2–3 hours per week</td>\n",
       "      <td>2</td>\n",
       "      <td>49</td>\n",
       "    </tr>\n",
       "    <tr>\n",
       "      <th>1</th>\n",
       "      <td>Programming for Everybody (Getting Started wit...</td>\n",
       "      <td>293864</td>\n",
       "      <td>Self-paced on your time</td>\n",
       "      <td>The University of Michigan</td>\n",
       "      <td>Introductory</td>\n",
       "      <td>Computer Science</td>\n",
       "      <td>English</td>\n",
       "      <td>English</td>\n",
       "      <td>2–4 hours per week</td>\n",
       "      <td>7</td>\n",
       "      <td>49</td>\n",
       "    </tr>\n",
       "    <tr>\n",
       "      <th>2</th>\n",
       "      <td>CS50's Introduction to Computer Science</td>\n",
       "      <td>2442271</td>\n",
       "      <td>Self-paced on your time</td>\n",
       "      <td>Harvard University</td>\n",
       "      <td>Introductory</td>\n",
       "      <td>Computer Science</td>\n",
       "      <td>English</td>\n",
       "      <td>English</td>\n",
       "      <td>6–18 hours per week</td>\n",
       "      <td>12</td>\n",
       "      <td>90</td>\n",
       "    </tr>\n",
       "    <tr>\n",
       "      <th>3</th>\n",
       "      <td>The Analytics Edge</td>\n",
       "      <td>129555</td>\n",
       "      <td>Instructor-led on a course schedule</td>\n",
       "      <td>Massachusetts Institute of Technology</td>\n",
       "      <td>Intermediate</td>\n",
       "      <td>Data Analysis &amp; Statistics</td>\n",
       "      <td>English</td>\n",
       "      <td>English</td>\n",
       "      <td>10–15 hours per week</td>\n",
       "      <td>13</td>\n",
       "      <td>199</td>\n",
       "    </tr>\n",
       "    <tr>\n",
       "      <th>4</th>\n",
       "      <td>Marketing Analytics: Marketing Measurement Str...</td>\n",
       "      <td>81140</td>\n",
       "      <td>Self-paced on your time</td>\n",
       "      <td>University of California, Berkeley</td>\n",
       "      <td>Introductory</td>\n",
       "      <td>Computer Science</td>\n",
       "      <td>English</td>\n",
       "      <td>English</td>\n",
       "      <td>5–7 hours per week</td>\n",
       "      <td>4</td>\n",
       "      <td>249</td>\n",
       "    </tr>\n",
       "  </tbody>\n",
       "</table>\n",
       "</div>"
      ],
      "text/plain": [
       "                                               title  n_enrolled  \\\n",
       "0                                How to Learn Online      124980   \n",
       "1  Programming for Everybody (Getting Started wit...      293864   \n",
       "2            CS50's Introduction to Computer Science     2442271   \n",
       "3                                 The Analytics Edge      129555   \n",
       "4  Marketing Analytics: Marketing Measurement Str...       81140   \n",
       "\n",
       "                           course_type                            institution  \\\n",
       "0              Self-paced on your time                                    edX   \n",
       "1              Self-paced on your time             The University of Michigan   \n",
       "2              Self-paced on your time                     Harvard University   \n",
       "3  Instructor-led on a course schedule  Massachusetts Institute of Technology   \n",
       "4              Self-paced on your time     University of California, Berkeley   \n",
       "\n",
       "          Level                       subject language subtitles  \\\n",
       "0  Introductory  Education & Teacher Training  English   English   \n",
       "1  Introductory              Computer Science  English   English   \n",
       "2  Introductory              Computer Science  English   English   \n",
       "3  Intermediate    Data Analysis & Statistics  English   English   \n",
       "4  Introductory              Computer Science  English   English   \n",
       "\n",
       "          course_effort  course_length  price  \n",
       "0    2–3 hours per week              2     49  \n",
       "1    2–4 hours per week              7     49  \n",
       "2   6–18 hours per week             12     90  \n",
       "3  10–15 hours per week             13    199  \n",
       "4    5–7 hours per week              4    249  "
      ]
     },
     "execution_count": 42,
     "metadata": {},
     "output_type": "execute_result"
    }
   ],
   "source": [
    "edx_df.head(5)"
   ]
  },
  {
   "cell_type": "code",
   "execution_count": 44,
   "metadata": {},
   "outputs": [],
   "source": [
    "edx_df.to_csv('DATASETS\\_ETL_EDX.csv',index=False,sep='|')"
   ]
  },
  {
   "attachments": {},
   "cell_type": "markdown",
   "metadata": {},
   "source": [
    "### Udemy"
   ]
  },
  {
   "cell_type": "code",
   "execution_count": null,
   "metadata": {},
   "outputs": [],
   "source": [
    "udemy_df.info()"
   ]
  },
  {
   "cell_type": "code",
   "execution_count": null,
   "metadata": {},
   "outputs": [],
   "source": [
    "udemy_df.head(2)"
   ]
  },
  {
   "attachments": {},
   "cell_type": "markdown",
   "metadata": {},
   "source": [
    "👇 Revisamos Valores Duplicados filtrados por el Id y procedemos a eliminar los registros conservando el primero"
   ]
  },
  {
   "cell_type": "code",
   "execution_count": null,
   "metadata": {},
   "outputs": [],
   "source": [
    "udemy_df[udemy_df['course_id'].duplicated(keep=False)].sort_values(by='course_id')"
   ]
  },
  {
   "cell_type": "code",
   "execution_count": null,
   "metadata": {},
   "outputs": [],
   "source": [
    "udemy_df.drop_duplicates(subset=['course_id'], keep='first',inplace=True)"
   ]
  },
  {
   "attachments": {},
   "cell_type": "markdown",
   "metadata": {},
   "source": [
    "👇 La columna 'published_timestamp' considero que tiene informacion valiosa de la cual se puede extraer la fecha de publicacion, por lo cual se crea un funcion para extraer la fecha cambiando el nombre de esta columna por 'date_published'"
   ]
  },
  {
   "cell_type": "code",
   "execution_count": null,
   "metadata": {},
   "outputs": [],
   "source": [
    "def extraer_fecha(df, columna):\n",
    "    df[columna] = pd.to_datetime(df[columna])\n",
    "    df[columna] = df[columna].dt.date"
   ]
  },
  {
   "cell_type": "code",
   "execution_count": null,
   "metadata": {},
   "outputs": [],
   "source": [
    "extraer_fecha(udemy_df, 'published_timestamp')"
   ]
  },
  {
   "cell_type": "code",
   "execution_count": null,
   "metadata": {},
   "outputs": [],
   "source": [
    "udemy_df = udemy_df.rename(columns={'published_timestamp': 'date_published'})"
   ]
  },
  {
   "attachments": {},
   "cell_type": "markdown",
   "metadata": {},
   "source": [
    "👇 Eliminamos la columna 'url' ya que no nos aportara infomacion de valor en el analisis de Power Bi"
   ]
  },
  {
   "cell_type": "code",
   "execution_count": null,
   "metadata": {},
   "outputs": [],
   "source": [
    "udemy_df.drop(['url'], axis=1, inplace=True)"
   ]
  },
  {
   "attachments": {},
   "cell_type": "markdown",
   "metadata": {},
   "source": [
    "💡 Analizando el dataset de Udemy identificamos que no tiene la columna 'Lenguages' el cual consideramos un dato importante usaremos la funcion anteriormente creada para identificarlo"
   ]
  },
  {
   "cell_type": "code",
   "execution_count": null,
   "metadata": {},
   "outputs": [],
   "source": [
    "udemy_df['language']=udemy_df['course_title'].apply(detectar_idioma)"
   ]
  },
  {
   "attachments": {},
   "cell_type": "markdown",
   "metadata": {},
   "source": [
    "👇 convertimos la columna 'date_published' que esta de tipo Object a tipo Date"
   ]
  },
  {
   "cell_type": "code",
   "execution_count": null,
   "metadata": {},
   "outputs": [],
   "source": [
    "udemy_df['date_published'] = pd.to_datetime(udemy_df['date_published'])"
   ]
  },
  {
   "cell_type": "markdown",
   "metadata": {},
   "source": [
    "👇 Exportamos el dataset para luego procesarlo en Power Bi"
   ]
  },
  {
   "cell_type": "code",
   "execution_count": null,
   "metadata": {},
   "outputs": [],
   "source": [
    "udemy_df.head(2)"
   ]
  },
  {
   "cell_type": "code",
   "execution_count": null,
   "metadata": {},
   "outputs": [],
   "source": [
    "udemy_df.to_csv('DATASETS\\_UDEMY_EDX.csv',index=False,sep='|')"
   ]
  },
  {
   "attachments": {},
   "cell_type": "markdown",
   "metadata": {},
   "source": [
    "-------------"
   ]
  },
  {
   "attachments": {},
   "cell_type": "markdown",
   "metadata": {},
   "source": [
    "# Sesion Info"
   ]
  },
  {
   "cell_type": "code",
   "execution_count": null,
   "metadata": {},
   "outputs": [],
   "source": [
    "session_info.show()"
   ]
  }
 ],
 "metadata": {
  "kernelspec": {
   "display_name": ".venv",
   "language": "python",
   "name": "python3"
  },
  "language_info": {
   "codemirror_mode": {
    "name": "ipython",
    "version": 3
   },
   "file_extension": ".py",
   "mimetype": "text/x-python",
   "name": "python",
   "nbconvert_exporter": "python",
   "pygments_lexer": "ipython3",
   "version": "3.10.8"
  },
  "orig_nbformat": 4
 },
 "nbformat": 4,
 "nbformat_minor": 2
}
