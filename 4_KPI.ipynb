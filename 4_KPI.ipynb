{
 "cells": [
  {
   "cell_type": "code",
   "execution_count": 1,
   "metadata": {},
   "outputs": [],
   "source": [
    "import pandas as pd"
   ]
  },
  {
   "cell_type": "code",
   "execution_count": 2,
   "metadata": {},
   "outputs": [],
   "source": [
    "# Cargar los datasets\n",
    "df1 =pd.read_csv(r'DATASETS\\_ETL_COUSERA_REVIEWS.csv',encoding='utf-8',sep='|')\n",
    "df2 =pd.read_csv(r'DATASETS\\_ETL_COUSERA.csv',encoding='utf-8',sep='|')\n",
    "df3=pd.read_csv(r'DATASETS\\_ETL_EDX.csv',encoding='utf-8',sep='|')\n",
    "df4=pd.read_csv(r'DATASETS\\_UDEMY_EDX.csv', encoding='utf-8',sep='|')\n",
    "\n",
    "df_coursera=pd.DataFrame(columns=['title'])\n",
    "df_edx=pd.DataFrame(columns=['title'])\n",
    "df_udemy=pd.DataFrame(columns=['title'])"
   ]
  },
  {
   "cell_type": "code",
   "execution_count": 3,
   "metadata": {},
   "outputs": [
    {
     "data": {
      "text/html": [
       "<div>\n",
       "<style scoped>\n",
       "    .dataframe tbody tr th:only-of-type {\n",
       "        vertical-align: middle;\n",
       "    }\n",
       "\n",
       "    .dataframe tbody tr th {\n",
       "        vertical-align: top;\n",
       "    }\n",
       "\n",
       "    .dataframe thead th {\n",
       "        text-align: right;\n",
       "    }\n",
       "</style>\n",
       "<table border=\"1\" class=\"dataframe\">\n",
       "  <thead>\n",
       "    <tr style=\"text-align: right;\">\n",
       "      <th></th>\n",
       "      <th>course_id</th>\n",
       "      <th>course_title</th>\n",
       "      <th>is_paid</th>\n",
       "      <th>price</th>\n",
       "      <th>num_subscribers</th>\n",
       "      <th>num_reviews</th>\n",
       "      <th>num_lectures</th>\n",
       "      <th>level</th>\n",
       "      <th>content_duration</th>\n",
       "      <th>date_published</th>\n",
       "      <th>subject</th>\n",
       "      <th>language</th>\n",
       "    </tr>\n",
       "  </thead>\n",
       "  <tbody>\n",
       "    <tr>\n",
       "      <th>0</th>\n",
       "      <td>1070968</td>\n",
       "      <td>Ultimate Investment Banking Course</td>\n",
       "      <td>True</td>\n",
       "      <td>200</td>\n",
       "      <td>2147</td>\n",
       "      <td>23</td>\n",
       "      <td>51</td>\n",
       "      <td>All Levels</td>\n",
       "      <td>1.5</td>\n",
       "      <td>2017-01-18</td>\n",
       "      <td>Business Finance</td>\n",
       "      <td>English</td>\n",
       "    </tr>\n",
       "    <tr>\n",
       "      <th>1</th>\n",
       "      <td>1113822</td>\n",
       "      <td>Complete GST Course &amp; Certification - Grow You...</td>\n",
       "      <td>True</td>\n",
       "      <td>75</td>\n",
       "      <td>2792</td>\n",
       "      <td>923</td>\n",
       "      <td>274</td>\n",
       "      <td>All Levels</td>\n",
       "      <td>39.0</td>\n",
       "      <td>2017-03-09</td>\n",
       "      <td>Business Finance</td>\n",
       "      <td>English</td>\n",
       "    </tr>\n",
       "    <tr>\n",
       "      <th>2</th>\n",
       "      <td>1006314</td>\n",
       "      <td>Financial Modeling for Business Analysts and C...</td>\n",
       "      <td>True</td>\n",
       "      <td>45</td>\n",
       "      <td>2174</td>\n",
       "      <td>74</td>\n",
       "      <td>51</td>\n",
       "      <td>Intermediate Level</td>\n",
       "      <td>2.5</td>\n",
       "      <td>2016-12-19</td>\n",
       "      <td>Business Finance</td>\n",
       "      <td>English</td>\n",
       "    </tr>\n",
       "    <tr>\n",
       "      <th>3</th>\n",
       "      <td>1210588</td>\n",
       "      <td>Beginner to Pro - Financial Analysis in Excel ...</td>\n",
       "      <td>True</td>\n",
       "      <td>95</td>\n",
       "      <td>2451</td>\n",
       "      <td>11</td>\n",
       "      <td>36</td>\n",
       "      <td>All Levels</td>\n",
       "      <td>3.0</td>\n",
       "      <td>2017-05-30</td>\n",
       "      <td>Business Finance</td>\n",
       "      <td>English</td>\n",
       "    </tr>\n",
       "    <tr>\n",
       "      <th>4</th>\n",
       "      <td>1011058</td>\n",
       "      <td>How To Maximize Your Profits Trading Options</td>\n",
       "      <td>True</td>\n",
       "      <td>200</td>\n",
       "      <td>1276</td>\n",
       "      <td>45</td>\n",
       "      <td>26</td>\n",
       "      <td>Intermediate Level</td>\n",
       "      <td>2.0</td>\n",
       "      <td>2016-12-13</td>\n",
       "      <td>Business Finance</td>\n",
       "      <td>English</td>\n",
       "    </tr>\n",
       "  </tbody>\n",
       "</table>\n",
       "</div>"
      ],
      "text/plain": [
       "   course_id                                       course_title  is_paid  \\\n",
       "0    1070968                 Ultimate Investment Banking Course     True   \n",
       "1    1113822  Complete GST Course & Certification - Grow You...     True   \n",
       "2    1006314  Financial Modeling for Business Analysts and C...     True   \n",
       "3    1210588  Beginner to Pro - Financial Analysis in Excel ...     True   \n",
       "4    1011058       How To Maximize Your Profits Trading Options     True   \n",
       "\n",
       "   price  num_subscribers  num_reviews  num_lectures               level  \\\n",
       "0    200             2147           23            51          All Levels   \n",
       "1     75             2792          923           274          All Levels   \n",
       "2     45             2174           74            51  Intermediate Level   \n",
       "3     95             2451           11            36          All Levels   \n",
       "4    200             1276           45            26  Intermediate Level   \n",
       "\n",
       "   content_duration date_published           subject language  \n",
       "0               1.5     2017-01-18  Business Finance  English  \n",
       "1              39.0     2017-03-09  Business Finance  English  \n",
       "2               2.5     2016-12-19  Business Finance  English  \n",
       "3               3.0     2017-05-30  Business Finance  English  \n",
       "4               2.0     2016-12-13  Business Finance  English  "
      ]
     },
     "execution_count": 3,
     "metadata": {},
     "output_type": "execute_result"
    }
   ],
   "source": [
    "df4.head(5)"
   ]
  },
  {
   "cell_type": "code",
   "execution_count": 4,
   "metadata": {},
   "outputs": [
    {
     "data": {
      "text/html": [
       "<div>\n",
       "<style scoped>\n",
       "    .dataframe tbody tr th:only-of-type {\n",
       "        vertical-align: middle;\n",
       "    }\n",
       "\n",
       "    .dataframe tbody tr th {\n",
       "        vertical-align: top;\n",
       "    }\n",
       "\n",
       "    .dataframe thead th {\n",
       "        text-align: right;\n",
       "    }\n",
       "</style>\n",
       "<table border=\"1\" class=\"dataframe\">\n",
       "  <thead>\n",
       "    <tr style=\"text-align: right;\">\n",
       "      <th></th>\n",
       "      <th>reviews</th>\n",
       "      <th>reviewers</th>\n",
       "      <th>date_reviews</th>\n",
       "      <th>rating</th>\n",
       "      <th>course_id</th>\n",
       "    </tr>\n",
       "  </thead>\n",
       "  <tbody>\n",
       "    <tr>\n",
       "      <th>0</th>\n",
       "      <td>pretty dry but i was able to pass with just tw...</td>\n",
       "      <td>By Robert S</td>\n",
       "      <td>2020-02-12</td>\n",
       "      <td>4</td>\n",
       "      <td>google-cbrs-cpi-training</td>\n",
       "    </tr>\n",
       "    <tr>\n",
       "      <th>1</th>\n",
       "      <td>would be a better experience if the video and ...</td>\n",
       "      <td>By Gabriel E R</td>\n",
       "      <td>2020-09-28</td>\n",
       "      <td>4</td>\n",
       "      <td>google-cbrs-cpi-training</td>\n",
       "    </tr>\n",
       "    <tr>\n",
       "      <th>2</th>\n",
       "      <td>information was perfect the program itself was...</td>\n",
       "      <td>By Jacob D</td>\n",
       "      <td>2020-04-08</td>\n",
       "      <td>4</td>\n",
       "      <td>google-cbrs-cpi-training</td>\n",
       "    </tr>\n",
       "  </tbody>\n",
       "</table>\n",
       "</div>"
      ],
      "text/plain": [
       "                                             reviews       reviewers  \\\n",
       "0  pretty dry but i was able to pass with just tw...     By Robert S   \n",
       "1  would be a better experience if the video and ...  By Gabriel E R   \n",
       "2  information was perfect the program itself was...      By Jacob D   \n",
       "\n",
       "  date_reviews  rating                 course_id  \n",
       "0   2020-02-12       4  google-cbrs-cpi-training  \n",
       "1   2020-09-28       4  google-cbrs-cpi-training  \n",
       "2   2020-04-08       4  google-cbrs-cpi-training  "
      ]
     },
     "execution_count": 4,
     "metadata": {},
     "output_type": "execute_result"
    }
   ],
   "source": [
    "df1.head(3)"
   ]
  },
  {
   "cell_type": "code",
   "execution_count": 5,
   "metadata": {},
   "outputs": [
    {
     "data": {
      "text/html": [
       "<div>\n",
       "<style scoped>\n",
       "    .dataframe tbody tr th:only-of-type {\n",
       "        vertical-align: middle;\n",
       "    }\n",
       "\n",
       "    .dataframe tbody tr th {\n",
       "        vertical-align: top;\n",
       "    }\n",
       "\n",
       "    .dataframe thead th {\n",
       "        text-align: right;\n",
       "    }\n",
       "</style>\n",
       "<table border=\"1\" class=\"dataframe\">\n",
       "  <thead>\n",
       "    <tr style=\"text-align: right;\">\n",
       "      <th></th>\n",
       "      <th>name</th>\n",
       "      <th>institution</th>\n",
       "      <th>course_id</th>\n",
       "      <th>language</th>\n",
       "    </tr>\n",
       "  </thead>\n",
       "  <tbody>\n",
       "    <tr>\n",
       "      <th>0</th>\n",
       "      <td>Machine Learning</td>\n",
       "      <td>Stanford University</td>\n",
       "      <td>machine-learning</td>\n",
       "      <td>English</td>\n",
       "    </tr>\n",
       "    <tr>\n",
       "      <th>1</th>\n",
       "      <td>Indigenous Canada</td>\n",
       "      <td>University of Alberta</td>\n",
       "      <td>indigenous-canada</td>\n",
       "      <td>Spanish</td>\n",
       "    </tr>\n",
       "    <tr>\n",
       "      <th>2</th>\n",
       "      <td>The Science of Well-Being</td>\n",
       "      <td>Yale University</td>\n",
       "      <td>the-science-of-well-being</td>\n",
       "      <td>English</td>\n",
       "    </tr>\n",
       "  </tbody>\n",
       "</table>\n",
       "</div>"
      ],
      "text/plain": [
       "                        name            institution  \\\n",
       "0           Machine Learning    Stanford University   \n",
       "1          Indigenous Canada  University of Alberta   \n",
       "2  The Science of Well-Being        Yale University   \n",
       "\n",
       "                   course_id language  \n",
       "0           machine-learning  English  \n",
       "1          indigenous-canada  Spanish  \n",
       "2  the-science-of-well-being  English  "
      ]
     },
     "execution_count": 5,
     "metadata": {},
     "output_type": "execute_result"
    }
   ],
   "source": [
    "df2.head(3)"
   ]
  },
  {
   "attachments": {},
   "cell_type": "markdown",
   "metadata": {},
   "source": [
    "Unificamos el dataset de coursera"
   ]
  },
  {
   "cell_type": "code",
   "execution_count": 6,
   "metadata": {},
   "outputs": [],
   "source": [
    "dfaux=pd.DataFrame(columns=['course_id'])\n",
    "dfaux['course_id']=df1['course_id'].unique()\n",
    "\n",
    "dfaux= dfaux.merge(df1.groupby('course_id')['reviews'].count().reset_index(), on='course_id', how='left')\n",
    "dfaux= dfaux.merge(df1.groupby('course_id')['reviewers'].count().reset_index(), on='course_id', how='left')\n",
    "dfaux = dfaux.merge(df1.groupby('course_id')['rating'].mean().round(1).reset_index(), on='course_id', how='left')\n",
    "\n",
    "dfaux.columns = ['course_id', 'total_reviews', 'total_reviewers', 'average_rating']\n",
    "\n",
    "courserakpi_df=pd.merge(df2, dfaux, left_on='course_id', right_on='course_id')\n",
    "courserakpi_df=courserakpi_df.reindex(columns=['course_id','name','institution','language','total_reviews','total_reviewers','average_rating'])\n",
    "courserakpi_df.to_csv('DATASETS\\_KPI_COURSERA.csv',index=False, encoding='utf-8',sep='|')"
   ]
  },
  {
   "attachments": {},
   "cell_type": "markdown",
   "metadata": {},
   "source": [
    "KPI Tasa de conversión de inscriptos gratuitos a inscriptos pagados"
   ]
  },
  {
   "cell_type": "code",
   "execution_count": 7,
   "metadata": {},
   "outputs": [
    {
     "name": "stdout",
     "output_type": "stream",
     "text": [
      "Tasa de conversión de inscritos gratuitos a inscritos pagados: 227.66754532551167\n",
      "total_free: 3575525\n",
      "total_paid: 8140310\n"
     ]
    }
   ],
   "source": [
    "# Filtrar los cursos gratuitos y pagados en df4\n",
    "free_courses = df4[df4['is_paid'] == False]\n",
    "paid_courses = df4[df4['is_paid'] == True]\n",
    "\n",
    "# Contar el número de inscritos en cursos gratuitos y pagados\n",
    "total_free_inscriptions = free_courses['num_subscribers'].sum()\n",
    "total_paid_inscriptions = paid_courses['num_subscribers'].sum()\n",
    "\n",
    "# Calcular la tasa de conversión\n",
    "conversion_rate = (total_paid_inscriptions / total_free_inscriptions) * 100\n",
    "\n",
    "# Imprimir la tasa de conversión\n",
    "print(\"Tasa de conversión de inscritos gratuitos a inscritos pagados:\", conversion_rate)\n",
    "print(\"total_free:\", total_free_inscriptions)\n",
    "print(\"total_paid:\", total_paid_inscriptions)"
   ]
  },
  {
   "attachments": {},
   "cell_type": "markdown",
   "metadata": {},
   "source": [
    "La tasa de conversión de inscritos gratuitos a inscritos pagados es de aproximadamente 227.67. Esto significa que, en promedio, por cada inscrito en cursos gratuitos, hay alrededor de 227.67 inscritos en cursos pagados."
   ]
  },
  {
   "cell_type": "code",
   "execution_count": null,
   "metadata": {},
   "outputs": [],
   "source": []
  },
  {
   "attachments": {},
   "cell_type": "markdown",
   "metadata": {},
   "source": [
    "courserakpi_df:['course_id', 'name', 'institution', 'language', 'total_reviews','total_reviewers', 'average_rating']\n",
    "\n",
    "df4: ['course_id', 'course_title', 'is_paid', 'price', 'num_subscribers', 'num_reviews', 'num_lectures', 'level', 'content_duration', 'date_published', 'subject', 'language']\n",
    "\n",
    "df3:['title', 'summary', 'n_enrolled', 'course_type', 'institution', 'Level', 'subject', 'language', 'subtitles', 'course_effort', 'course_length', 'price', 'course_description']"
   ]
  },
  {
   "attachments": {},
   "cell_type": "markdown",
   "metadata": {},
   "source": [
    "Proporción de cursos con subtítulos"
   ]
  },
  {
   "cell_type": "code",
   "execution_count": 8,
   "metadata": {},
   "outputs": [
    {
     "data": {
      "text/plain": [
       "100.0"
      ]
     },
     "execution_count": 8,
     "metadata": {},
     "output_type": "execute_result"
    }
   ],
   "source": [
    "# Cálculo de la proporción de cursos con subtítulos\n",
    "subtitles_ratio = (df3[df3['subtitles'].notnull()].shape[0] / df3.shape[0]) * 100\n",
    "subtitles_ratio"
   ]
  },
  {
   "cell_type": "markdown",
   "metadata": {},
   "source": [
    "Índice de satisfacción del curso: "
   ]
  },
  {
   "cell_type": "code",
   "execution_count": 9,
   "metadata": {},
   "outputs": [
    {
     "data": {
      "text/plain": [
       "0      0.782446\n",
       "1      0.092308\n",
       "2      0.528338\n",
       "3      0.761918\n",
       "4      0.002086\n",
       "         ...   \n",
       "599    0.036724\n",
       "600    0.006224\n",
       "601    0.000369\n",
       "602    0.024721\n",
       "603    0.017396\n",
       "Length: 604, dtype: float64"
      ]
     },
     "execution_count": 9,
     "metadata": {},
     "output_type": "execute_result"
    }
   ],
   "source": [
    "# Cálculo del índice de satisfacción del curso\n",
    "max_rating = courserakpi_df['average_rating'].max()\n",
    "max_reviews = courserakpi_df['total_reviews'].max()\n",
    "satisfaction_index = (courserakpi_df['average_rating'] * courserakpi_df['total_reviews']) / (max_rating * max_reviews)\n",
    "satisfaction_index"
   ]
  },
  {
   "attachments": {},
   "cell_type": "markdown",
   "metadata": {},
   "source": [
    "## KPI 1 - Tasa de finalizacion de Cursos"
   ]
  },
  {
   "attachments": {},
   "cell_type": "markdown",
   "metadata": {},
   "source": [
    "Esta métrica representa el porcentaje de estudiantes que completaron un curso en relación con el número total de inscritos. Puedes calcularlo dividiendo el número de estudiantes que completaron el curso entre el número total de inscritos y multiplicarlo por 100. Esto te ayudará a evaluar la efectividad de tus cursos para retener y motivar a los estudiantes a completarlos."
   ]
  },
  {
   "cell_type": "code",
   "execution_count": 10,
   "metadata": {},
   "outputs": [],
   "source": [
    "# Cálculo de la tasa de finalización de cursos\n",
    "completion_rate = (df4['num_reviews'] / df4['num_subscribers']) * 100"
   ]
  },
  {
   "cell_type": "code",
   "execution_count": 11,
   "metadata": {},
   "outputs": [
    {
     "data": {
      "text/plain": [
       "0        1.071262\n",
       "1       33.058739\n",
       "2        3.403864\n",
       "3        0.448796\n",
       "4        3.526646\n",
       "          ...    \n",
       "3667     1.346154\n",
       "3668     0.980392\n",
       "3669    32.943470\n",
       "3670    10.333333\n",
       "3671     3.995560\n",
       "Length: 3672, dtype: float64"
      ]
     },
     "execution_count": 11,
     "metadata": {},
     "output_type": "execute_result"
    }
   ],
   "source": [
    "completion_rate"
   ]
  },
  {
   "attachments": {},
   "cell_type": "markdown",
   "metadata": {},
   "source": [
    "## KPI 2 - Valoración promedio de los cursos"
   ]
  },
  {
   "attachments": {},
   "cell_type": "markdown",
   "metadata": {},
   "source": [
    "Esta métrica se refiere a la calificación promedio dada por los estudiantes a los cursos. Puedes calcularlo tomando el promedio de la columna 'average_rating' en el dataset courserakpi_df. Esto te dará una idea de la satisfacción general de los estudiantes con los cursos ofrecidos."
   ]
  },
  {
   "cell_type": "code",
   "execution_count": 12,
   "metadata": {},
   "outputs": [],
   "source": [
    "# Cálculo de la valoración promedio de los cursos\n",
    "average_rating = courserakpi_df['average_rating'].mean()"
   ]
  },
  {
   "cell_type": "code",
   "execution_count": 13,
   "metadata": {},
   "outputs": [
    {
     "data": {
      "text/plain": [
       "4.619867549668874"
      ]
     },
     "execution_count": 13,
     "metadata": {},
     "output_type": "execute_result"
    }
   ],
   "source": [
    "average_rating"
   ]
  },
  {
   "attachments": {},
   "cell_type": "markdown",
   "metadata": {},
   "source": [
    "## KPI 3 - Crecimiento de suscripciones"
   ]
  },
  {
   "attachments": {},
   "cell_type": "markdown",
   "metadata": {},
   "source": [
    "Esta métrica indica la tasa de crecimiento de las suscripciones a lo largo del tiempo. Puedes calcularlo comparando el número de suscriptores en una fecha específica con el número de suscriptores en una fecha anterior y expresarlo como un porcentaje de crecimiento."
   ]
  },
  {
   "cell_type": "code",
   "execution_count": 14,
   "metadata": {},
   "outputs": [],
   "source": [
    "# Cálculo del crecimiento de suscripciones\n",
    "growth_rate = ((df4['num_subscribers'].iloc[-1] - df4['num_subscribers'].iloc[0]) / df4['num_subscribers'].iloc[0]) * 100"
   ]
  },
  {
   "cell_type": "code",
   "execution_count": 15,
   "metadata": {},
   "outputs": [
    {
     "data": {
      "text/plain": [
       "-58.03446669771775"
      ]
     },
     "execution_count": 15,
     "metadata": {},
     "output_type": "execute_result"
    }
   ],
   "source": [
    "growth_rate"
   ]
  }
 ],
 "metadata": {
  "kernelspec": {
   "display_name": ".venv",
   "language": "python",
   "name": "python3"
  },
  "language_info": {
   "codemirror_mode": {
    "name": "ipython",
    "version": 3
   },
   "file_extension": ".py",
   "mimetype": "text/x-python",
   "name": "python",
   "nbconvert_exporter": "python",
   "pygments_lexer": "ipython3",
   "version": "3.10.8"
  },
  "orig_nbformat": 4
 },
 "nbformat": 4,
 "nbformat_minor": 2
}
